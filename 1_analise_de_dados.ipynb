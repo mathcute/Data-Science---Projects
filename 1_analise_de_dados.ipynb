{
  "nbformat": 4,
  "nbformat_minor": 0,
  "metadata": {
    "colab": {
      "provenance": [],
      "authorship_tag": "ABX9TyNE1q907AuNi+H4qJBTNCLD",
      "include_colab_link": true
    },
    "kernelspec": {
      "name": "python3",
      "display_name": "Python 3"
    },
    "language_info": {
      "name": "python"
    }
  },
  "cells": [
    {
      "cell_type": "markdown",
      "metadata": {
        "id": "view-in-github",
        "colab_type": "text"
      },
      "source": [
        "<a href=\"https://colab.research.google.com/github/mathcute/Data-Science---Projects/blob/main/1_analise_de_dados.ipynb\" target=\"_parent\"><img src=\"https://colab.research.google.com/assets/colab-badge.svg\" alt=\"Open In Colab\"/></a>"
      ]
    },
    {
      "cell_type": "markdown",
      "source": [
        "Objetivo dessa análise:\n",
        "\n",
        "- **CALCULAR AS MÉDIAS DE ALUGUEIS DE NEW YORK**\n",
        "- **CONTAR TODOS NOMES DISTINTOS NA COLUNA REGIÃO**\n",
        "- **O VALOR DE ALUGUEL MAIS CARO DE NEW YORK**\n",
        "\n",
        "\n",
        "\n"
      ],
      "metadata": {
        "id": "54vmmBE0Dznw"
      }
    },
    {
      "cell_type": "code",
      "execution_count": 4,
      "metadata": {
        "id": "PEVb5Zf56mr5"
      },
      "outputs": [],
      "source": [
        "import pandas as pd\n",
        "import numpy as np\n",
        "\n",
        "data = pd.read_csv('/content/AB_NYC_2019[1].csv')"
      ]
    },
    {
      "cell_type": "markdown",
      "source": [
        "## Calcular a média de todos os valores de aluguel da cidade de New York."
      ],
      "metadata": {
        "id": "Z4BhiJK_98Eg"
      }
    },
    {
      "cell_type": "code",
      "source": [
        "preco_aluguel = data.loc[:, 'price']\n",
        "\n",
        "valor_medio = np.mean(preco_aluguel)"
      ],
      "metadata": {
        "colab": {
          "base_uri": "https://localhost:8080/"
        },
        "id": "91D7ePas-Wpy",
        "outputId": "129fb853-aa00-4d99-ffee-71ec55ce5781"
      },
      "execution_count": null,
      "outputs": [
        {
          "output_type": "execute_result",
          "data": {
            "text/plain": [
              "152.7206871868289"
            ]
          },
          "metadata": {},
          "execution_count": 6
        }
      ]
    },
    {
      "cell_type": "markdown",
      "source": [
        "## Contar todos os nomes distintos que aparecem na coluna região."
      ],
      "metadata": {
        "id": "zPar6asnDJnU"
      }
    },
    {
      "cell_type": "code",
      "source": [
        "regiao = data.loc[:, 'neighbourhood_group']\n",
        "\n",
        "pd.unique(regiao)"
      ],
      "metadata": {
        "id": "E3TUfTcaDRDR",
        "colab": {
          "base_uri": "https://localhost:8080/"
        },
        "outputId": "6e73089b-7dca-4d4d-f344-4c24a73c2747"
      },
      "execution_count": 6,
      "outputs": [
        {
          "output_type": "execute_result",
          "data": {
            "text/plain": [
              "array(['Brooklyn', 'Manhattan', 'Queens', 'Staten Island', 'Bronx'],\n",
              "      dtype=object)"
            ]
          },
          "metadata": {},
          "execution_count": 6
        }
      ]
    },
    {
      "cell_type": "markdown",
      "source": [
        "## Aluguel mais caro de New York"
      ],
      "metadata": {
        "id": "JijckhIZHtFm"
      }
    },
    {
      "cell_type": "code",
      "source": [
        "preco_aluguel = data.loc[:, 'price']\n",
        "\n",
        "np.max(preco_aluguel)"
      ],
      "metadata": {
        "colab": {
          "base_uri": "https://localhost:8080/"
        },
        "id": "8FzxlK38HzYd",
        "outputId": "cc1bd636-5a80-4c89-d156-0cd786d8376a"
      },
      "execution_count": null,
      "outputs": [
        {
          "output_type": "execute_result",
          "data": {
            "text/plain": [
              "10000"
            ]
          },
          "metadata": {},
          "execution_count": 10
        }
      ]
    }
  ]
}