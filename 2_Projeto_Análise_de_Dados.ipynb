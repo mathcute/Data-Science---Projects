{
  "nbformat": 4,
  "nbformat_minor": 0,
  "metadata": {
    "colab": {
      "provenance": [],
      "authorship_tag": "ABX9TyMxfnb1ErOqfdgbphkAvtdM",
      "include_colab_link": true
    },
    "kernelspec": {
      "name": "python3",
      "display_name": "Python 3"
    },
    "language_info": {
      "name": "python"
    }
  },
  "cells": [
    {
      "cell_type": "markdown",
      "metadata": {
        "id": "view-in-github",
        "colab_type": "text"
      },
      "source": [
        "<a href=\"https://colab.research.google.com/github/mathcute/Data-Science---Projects/blob/main/2_Projeto_An%C3%A1lise_de_Dados.ipynb\" target=\"_parent\"><img src=\"https://colab.research.google.com/assets/colab-badge.svg\" alt=\"Open In Colab\"/></a>"
      ]
    },
    {
      "cell_type": "markdown",
      "source": [
        "##Quais são as categorias de imóveis que estão cadastradas dentro da base de dados da cidade de Nova York?"
      ],
      "metadata": {
        "id": "EdHiX2oHQrX8"
      }
    },
    {
      "cell_type": "code",
      "source": [
        "import pandas as pd\n",
        "import numpy as np\n",
        "from matplotlib import pyplot as plt\n",
        "\n",
        "data = pd.read_csv(\"/content/AB_NYC_2019[1].csv\")\n",
        "\n",
        "coluna = 'room_type'\n",
        "room_type = data.loc[:, coluna]\n",
        "\n",
        "room_type_unique = np.unique(room_type)\n",
        "\n",
        "print( 'As categorias são:' )\n",
        "print( room_type_unique )"
      ],
      "metadata": {
        "colab": {
          "base_uri": "https://localhost:8080/"
        },
        "id": "_H0tZ0SlQocd",
        "outputId": "87e9fff5-7f46-4c8f-e4d0-bb67fb00f408"
      },
      "execution_count": null,
      "outputs": [
        {
          "output_type": "stream",
          "name": "stdout",
          "text": [
            "As categorias são:\n",
            "['Entire home/apt' 'Private room' 'Shared room']\n"
          ]
        }
      ]
    },
    {
      "cell_type": "markdown",
      "source": [
        "##Quantos usuários (Hosts) únicos cadastrados existem dentro da base de dados da cidade de Nova York?"
      ],
      "metadata": {
        "id": "JpyBxk_KYrCH"
      }
    },
    {
      "cell_type": "code",
      "source": [
        "host_id = data.loc[:, 'host_id']\n",
        "\n",
        "host_id_unique = np.unique(host_id)\n",
        "\n",
        "print(f\"Os hosts unicos sao: \", len(host_id_unique))"
      ],
      "metadata": {
        "colab": {
          "base_uri": "https://localhost:8080/"
        },
        "id": "_BDyOk6QY04i",
        "outputId": "44a450ca-0e34-44ce-e475-4de6d8b38fd1"
      },
      "execution_count": null,
      "outputs": [
        {
          "output_type": "stream",
          "name": "stdout",
          "text": [
            "Os hosts unicos sao:  37457\n"
          ]
        }
      ]
    },
    {
      "cell_type": "markdown",
      "source": [
        "##Como é a variação do preços dos imóveis em NY?"
      ],
      "metadata": {
        "id": "Th0NsWd6nG88"
      }
    },
    {
      "cell_type": "code",
      "source": [
        "price = data.loc[:, 'price']\n",
        "\n",
        "print('O desvio padrao eh: {}'.format(np.std(price)))\n",
        "\n",
        "print('A media de preços eh: {}'.format(np.mean(price)))"
      ],
      "metadata": {
        "id": "eaeWDG5snOO4",
        "colab": {
          "base_uri": "https://localhost:8080/"
        },
        "outputId": "79f7f047-48e4-44fd-904f-6ee648550d95"
      },
      "execution_count": null,
      "outputs": [
        {
          "output_type": "stream",
          "name": "stdout",
          "text": [
            "O desvio padrao eh: 240.15171391941718\n",
            "A media de preços eh: 152.7206871868289\n"
          ]
        }
      ]
    },
    {
      "cell_type": "markdown",
      "source": [
        "##Existem mais imóveis baratos ou caros?"
      ],
      "metadata": {
        "id": "8HgsQTYep5WU"
      }
    },
    {
      "cell_type": "code",
      "source": [
        "linhas = data.loc[:, 'price'] < 1250\n",
        "\n",
        "price = data.loc[linhas, 'price']\n",
        "\n",
        "print(\"Existem mais de 20.000 imoveis com valor de aluguel até $100\")\n",
        "\n",
        "plt.hist(price, bins = 12);"
      ],
      "metadata": {
        "colab": {
          "base_uri": "https://localhost:8080/",
          "height": 447
        },
        "id": "fz1oPsFZp-wR",
        "outputId": "2316f83a-8b0f-4a78-a04c-8e0fd6f7c8da"
      },
      "execution_count": null,
      "outputs": [
        {
          "output_type": "stream",
          "name": "stdout",
          "text": [
            "Existem mais de 20.000 imoveis com valor de aluguel até $100\n"
          ]
        },
        {
          "output_type": "display_data",
          "data": {
            "text/plain": [
              "<Figure size 640x480 with 1 Axes>"
            ],
            "image/png": "[encoded data removed]"
          },
          "metadata": {}
        }
      ]
    },
    {
      "cell_type": "markdown",
      "source": [
        "##Qual a distribuição do número de Reviews? Existem imóveis com muitos e outro com poucos reviews?"
      ],
      "metadata": {
        "id": "R2V8px-ctzVV"
      }
    },
    {
      "cell_type": "code",
      "source": [
        "linhas = data.loc[:, 'number_of_reviews'] < 300\n",
        "\n",
        "reviews = data.loc[linhas, 'number_of_reviews']\n",
        "\n",
        "print(\"Existem quase 30.000 imóveis com até 10 avaliações!\\n\")\n",
        "\n",
        "plt.hist(reviews, bins = 30);"
      ],
      "metadata": {
        "colab": {
          "base_uri": "https://localhost:8080/",
          "height": 465
        },
        "id": "j4A6ke_Xt2xy",
        "outputId": "b9281d65-f17d-4e3d-e812-d5766449cd4b"
      },
      "execution_count": null,
      "outputs": [
        {
          "output_type": "stream",
          "name": "stdout",
          "text": [
            "Existem quase 30.000 imóveis com até 10 avaliações!\n",
            "\n"
          ]
        },
        {
          "output_type": "display_data",
          "data": {
            "text/plain": [
              "<Figure size 640x480 with 1 Axes>"
            ],
            "image/png": "[encoded data removed]"
          },
          "metadata": {}
        }
      ]
    }
  ]
}