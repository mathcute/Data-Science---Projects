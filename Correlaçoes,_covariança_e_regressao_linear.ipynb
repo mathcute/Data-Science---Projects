{
  "nbformat": 4,
  "nbformat_minor": 0,
  "metadata": {
    "colab": {
      "provenance": [],
      "authorship_tag": "ABX9TyP1QxaJSwm4obb5ZPPukw98",
      "include_colab_link": true
    },
    "kernelspec": {
      "name": "python3",
      "display_name": "Python 3"
    },
    "language_info": {
      "name": "python"
    }
  },
  "cells": [
    {
      "cell_type": "markdown",
      "metadata": {
        "id": "view-in-github",
        "colab_type": "text"
      },
      "source": [
        "<a href=\"https://colab.research.google.com/github/mathcute/Data-Science---Projects/blob/main/Correla%C3%A7oes%2C_covarian%C3%A7a_e_regressao_linear.ipynb\" target=\"_parent\"><img src=\"https://colab.research.google.com/assets/colab-badge.svg\" alt=\"Open In Colab\"/></a>"
      ]
    },
    {
      "cell_type": "markdown",
      "source": [
        "##Correlação de Pearson\n",
        "\n",
        "#Utilizada quando as variáveis possuem distruição normal e são do tipo quantitativas.\n",
        "\n",
        "# Para verificar a normalidade das variáveis podemos utilizar o teste de shapiro wilk, olhando para o valor p. Se o valor p, no teste, der maior que o nível de significância, devemos considerar que a variável segue distiruição normal."
      ],
      "metadata": {
        "id": "OmqbQa75_uah"
      }
    },
    {
      "cell_type": "code",
      "execution_count": null,
      "metadata": {
        "colab": {
          "base_uri": "https://localhost:8080/"
        },
        "id": "zixqezpE_aYE",
        "outputId": "f165dd0c-82bd-4c46-e7f8-511475e20946"
      },
      "outputs": [
        {
          "output_type": "execute_result",
          "data": {
            "text/plain": [
              "15.024263075834062"
            ]
          },
          "metadata": {},
          "execution_count": 2
        }
      ],
      "source": [
        "import pandas as pd\n",
        "from random import *\n",
        "import numpy as np\n",
        "\n",
        "list = []\n",
        "\n",
        "for i in range(5000):\n",
        "\n",
        "  a = float(gauss(0, 10))\n",
        "  list.append(a)\n",
        "\n",
        "list2 = []\n",
        "\n",
        "for i in range(5000):\n",
        "\n",
        "  a = float(gauss(15, 2))\n",
        "  list2.append(a)\n",
        "\n",
        "np.mean(list)\n",
        "np.mean(list2)"
      ]
    },
    {
      "cell_type": "markdown",
      "source": [
        "# **Realizando o teste de normalidade de Shapiro Wilk**"
      ],
      "metadata": {
        "id": "iT8q9oOYApr3"
      }
    },
    {
      "cell_type": "code",
      "source": [
        "from scipy.stats import shapiro\n",
        "\n",
        "# o teste\n",
        "\n",
        "stat1, p1 = shapiro(list)\n",
        "\n",
        "# O valor de p é o p-valor do teste de Shapiro-Wilk\n",
        "# Se p for menor que o nível de significância escolhido (geralmente 0,05),\n",
        "# então você pode rejeitar a hipótese nula de que os dados são normalmente distribuídos\n",
        "\n",
        "if (p1 > 0.05):\n",
        "\n",
        "  print(\"A hipótese nula não pode ser rejeitada\")\n",
        "\n",
        "else:\n",
        "\n",
        "  print(\"A hipótese nula é rejeitada (os dados nao estao normalmente distribuídos)\")\n"
      ],
      "metadata": {
        "colab": {
          "base_uri": "https://localhost:8080/"
        },
        "id": "HUKPIspjAvIc",
        "outputId": "8292a9ae-1413-44fa-d9b8-2e2757bccaa0"
      },
      "execution_count": null,
      "outputs": [
        {
          "output_type": "stream",
          "name": "stdout",
          "text": [
            "A hipótese nula não pode ser rejeitada\n"
          ]
        }
      ]
    },
    {
      "cell_type": "code",
      "source": [
        "# o teste para lista2\n",
        "\n",
        "stat2, p2 = shapiro(list2)\n",
        "\n",
        "# O valor de p é o p-valor do teste de Shapiro-Wilk\n",
        "# Se p for menor que o nível de significância escolhido (geralmente 0,05),\n",
        "# então você pode rejeitar a hipótese nula de que os dados são normalmente distribuídos\n",
        "\n",
        "if (p2 > 0.05):\n",
        "\n",
        "  print(\"A hipótese nula não pode ser rejeitada\")\n",
        "\n",
        "else:\n",
        "\n",
        "  print(\"A hipótese nula é rejeitada (os dados nao estao normalmente distribuídos)\")\n"
      ],
      "metadata": {
        "colab": {
          "base_uri": "https://localhost:8080/"
        },
        "id": "IcQ91g_iBc2m",
        "outputId": "0947ed70-00fd-4c7c-aeed-6ec35e5c1986"
      },
      "execution_count": null,
      "outputs": [
        {
          "output_type": "stream",
          "name": "stdout",
          "text": [
            "A hipótese nula não pode ser rejeitada\n"
          ]
        }
      ]
    },
    {
      "cell_type": "code",
      "source": [
        "p1, p2"
      ],
      "metadata": {
        "colab": {
          "base_uri": "https://localhost:8080/"
        },
        "id": "QASAyNF7ByJp",
        "outputId": "7a821c0a-d948-4d51-93bc-06f2d800923b"
      },
      "execution_count": null,
      "outputs": [
        {
          "output_type": "execute_result",
          "data": {
            "text/plain": [
              "(0.9916114807128906, 0.5251548886299133)"
            ]
          },
          "metadata": {},
          "execution_count": 5
        }
      ]
    },
    {
      "cell_type": "code",
      "source": [
        "stat1, stat2"
      ],
      "metadata": {
        "colab": {
          "base_uri": "https://localhost:8080/"
        },
        "id": "HQkAZ2s9B0VZ",
        "outputId": "70422584-382a-4e29-ae82-7a96d0c0d232"
      },
      "execution_count": null,
      "outputs": [
        {
          "output_type": "execute_result",
          "data": {
            "text/plain": [
              "(0.999851644039154, 0.9996396899223328)"
            ]
          },
          "metadata": {},
          "execution_count": 6
        }
      ]
    },
    {
      "cell_type": "markdown",
      "source": [
        "## **Dadas variáveis normalizadas para alfa = 5%, então façamos a correlação de Pearson**"
      ],
      "metadata": {
        "id": "wmk1o0UqB3OK"
      }
    },
    {
      "cell_type": "code",
      "source": [
        "from scipy.stats import pearsonr\n",
        "\n",
        "r1, p3 = pearsonr(list, list2)\n",
        "\n",
        "# O valor de r é o coeficiente de correlação de Pearson entre x e y\n",
        "# Ele mede a força e a direção da relação linear entre as duas variáveis\n",
        "# Se r for positivo, há uma relação positiva (quanto maior x, maior y)\n",
        "# Se r for negativo, há uma relação negativa (quanto maior x, menor y)\n",
        "# Quanto mais próximo de 1 ou -1, maior é a força da relação\n",
        "# Se r for próximo de 0, não há uma relação linear significativa entre as variáveis\n",
        "\n",
        "# O valor de p é o p-valor do teste de correlação de Pearson\n",
        "# Se p for menor que o nível de significância escolhido (geralmente 0,05),\n",
        "# então você pode rejeitar a hipótese nula de que não há relação entre as variáveis\n",
        "\n",
        "if (p3 > 0.05):\n",
        "\n",
        "  print(\"A hipótese nula não pode ser rejeitada (não há relação entre as variáveis)\")\n",
        "\n",
        "else:\n",
        "\n",
        "  print(\"A hipótese nula é rejeitada (há uma relação entre as variáveis)\")"
      ],
      "metadata": {
        "colab": {
          "base_uri": "https://localhost:8080/"
        },
        "id": "ZLls_r-GB9at",
        "outputId": "cfade5c2-a26c-4421-d5a9-98f809a4f48c"
      },
      "execution_count": null,
      "outputs": [
        {
          "output_type": "stream",
          "name": "stdout",
          "text": [
            "A hipótese nula não pode ser rejeitada (não há relação entre as variáveis)\n"
          ]
        }
      ]
    },
    {
      "cell_type": "code",
      "source": [
        "r1"
      ],
      "metadata": {
        "colab": {
          "base_uri": "https://localhost:8080/"
        },
        "id": "M6OfG9csCvBi",
        "outputId": "c59c5528-7f47-415b-c990-54967663ccd2"
      },
      "execution_count": null,
      "outputs": [
        {
          "output_type": "execute_result",
          "data": {
            "text/plain": [
              "0.017627744563558312"
            ]
          },
          "metadata": {},
          "execution_count": 8
        }
      ]
    },
    {
      "cell_type": "code",
      "source": [
        "p3"
      ],
      "metadata": {
        "colab": {
          "base_uri": "https://localhost:8080/"
        },
        "id": "o66nxpz3CznC",
        "outputId": "889d99f8-caff-44f6-94dc-b3c792447fd2"
      },
      "execution_count": null,
      "outputs": [
        {
          "output_type": "execute_result",
          "data": {
            "text/plain": [
              "0.2126708136240107"
            ]
          },
          "metadata": {},
          "execution_count": 9
        }
      ]
    },
    {
      "cell_type": "markdown",
      "source": [
        "## **Correlação não Linear**\n",
        "\n",
        "Para testes envolvendo Correlação Não Linear devemos utilizar a correlação de Spearman.\n",
        "\n",
        "Não paramétrico\n",
        "\n",
        "Não importa a distiruição dos dados\n",
        "\n",
        "Para a maioria dos casos\n",
        "\n",
        "Serve também para variáveis qualitativas ordinais"
      ],
      "metadata": {
        "id": "rbqshnqlC1eZ"
      }
    },
    {
      "cell_type": "code",
      "source": [
        "data = pd.read_csv(\"/content/atlas2010_recorte.csv\", decimal = '.')\n",
        "data"
      ],
      "metadata": {
        "colab": {
          "base_uri": "https://localhost:8080/",
          "height": 694
        },
        "id": "nTlNfgpxC5rw",
        "outputId": "ada8c062-c448-4f3d-b11c-2c1a8442b614"
      },
      "execution_count": null,
      "outputs": [
        {
          "output_type": "execute_result",
          "data": {
            "text/plain": [
              "           uf  espvida  fectot  mort1  razdep  e_anosestudo\n",
              "0    Rondonia    70.75    2.24   23.8   47.37          8.67\n",
              "1    Rondonia    73.36    1.91   19.2   46.68          9.18\n",
              "2    Rondonia    70.39    2.15   24.8   48.12         10.09\n",
              "3    Rondonia    74.27    1.90   14.3   43.79          9.74\n",
              "4    Rondonia    72.94    2.12   18.1   45.67         10.22\n",
              "..        ...      ...     ...    ...     ...           ...\n",
              "885     Piaui    69.57    2.67   29.2   59.93          7.94\n",
              "886     Piaui    67.49    1.86   36.2   55.92          9.14\n",
              "887     Piaui    66.10    2.45   41.5   55.68          8.50\n",
              "888     Piaui    66.10    1.89   41.5   43.73          7.63\n",
              "889     Piaui    67.49    2.18   36.2   55.07          9.38\n",
              "\n",
              "[890 rows x 6 columns]"
            ],
            "text/html": [
              "\n",
              "  <div id=\"df-e884cc75-ee69-4a8b-9196-075f00688d9f\" class=\"colab-df-container\">\n",
              "    <div>\n",
              "<style scoped>\n",
              "    .dataframe tbody tr th:only-of-type {\n",
              "        vertical-align: middle;\n",
              "    }\n",
              "\n",
              "    .dataframe tbody tr th {\n",
              "        vertical-align: top;\n",
              "    }\n",
              "\n",
              "    .dataframe thead th {\n",
              "        text-align: right;\n",
              "    }\n",
              "</style>\n",
              "<table border=\"1\" class=\"dataframe\">\n",
              "  <thead>\n",
              "    <tr style=\"text-align: right;\">\n",
              "      <th></th>\n",
              "      <th>uf</th>\n",
              "      <th>espvida</th>\n",
              "      <th>fectot</th>\n",
              "      <th>mort1</th>\n",
              "      <th>razdep</th>\n",
              "      <th>e_anosestudo</th>\n",
              "    </tr>\n",
              "  </thead>\n",
              "  <tbody>\n",
              "    <tr>\n",
              "      <th>0</th>\n",
              "      <td>Rondonia</td>\n",
              "      <td>70.75</td>\n",
              "      <td>2.24</td>\n",
              "      <td>23.8</td>\n",
              "      <td>47.37</td>\n",
              "      <td>8.67</td>\n",
              "    </tr>\n",
              "    <tr>\n",
              "      <th>1</th>\n",
              "      <td>Rondonia</td>\n",
              "      <td>73.36</td>\n",
              "      <td>1.91</td>\n",
              "      <td>19.2</td>\n",
              "      <td>46.68</td>\n",
              "      <td>9.18</td>\n",
              "    </tr>\n",
              "    <tr>\n",
              "      <th>2</th>\n",
              "      <td>Rondonia</td>\n",
              "      <td>70.39</td>\n",
              "      <td>2.15</td>\n",
              "      <td>24.8</td>\n",
              "      <td>48.12</td>\n",
              "      <td>10.09</td>\n",
              "    </tr>\n",
              "    <tr>\n",
              "      <th>3</th>\n",
              "      <td>Rondonia</td>\n",
              "      <td>74.27</td>\n",
              "      <td>1.90</td>\n",
              "      <td>14.3</td>\n",
              "      <td>43.79</td>\n",
              "      <td>9.74</td>\n",
              "    </tr>\n",
              "    <tr>\n",
              "      <th>4</th>\n",
              "      <td>Rondonia</td>\n",
              "      <td>72.94</td>\n",
              "      <td>2.12</td>\n",
              "      <td>18.1</td>\n",
              "      <td>45.67</td>\n",
              "      <td>10.22</td>\n",
              "    </tr>\n",
              "    <tr>\n",
              "      <th>...</th>\n",
              "      <td>...</td>\n",
              "      <td>...</td>\n",
              "      <td>...</td>\n",
              "      <td>...</td>\n",
              "      <td>...</td>\n",
              "      <td>...</td>\n",
              "    </tr>\n",
              "    <tr>\n",
              "      <th>885</th>\n",
              "      <td>Piaui</td>\n",
              "      <td>69.57</td>\n",
              "      <td>2.67</td>\n",
              "      <td>29.2</td>\n",
              "      <td>59.93</td>\n",
              "      <td>7.94</td>\n",
              "    </tr>\n",
              "    <tr>\n",
              "      <th>886</th>\n",
              "      <td>Piaui</td>\n",
              "      <td>67.49</td>\n",
              "      <td>1.86</td>\n",
              "      <td>36.2</td>\n",
              "      <td>55.92</td>\n",
              "      <td>9.14</td>\n",
              "    </tr>\n",
              "    <tr>\n",
              "      <th>887</th>\n",
              "      <td>Piaui</td>\n",
              "      <td>66.10</td>\n",
              "      <td>2.45</td>\n",
              "      <td>41.5</td>\n",
              "      <td>55.68</td>\n",
              "      <td>8.50</td>\n",
              "    </tr>\n",
              "    <tr>\n",
              "      <th>888</th>\n",
              "      <td>Piaui</td>\n",
              "      <td>66.10</td>\n",
              "      <td>1.89</td>\n",
              "      <td>41.5</td>\n",
              "      <td>43.73</td>\n",
              "      <td>7.63</td>\n",
              "    </tr>\n",
              "    <tr>\n",
              "      <th>889</th>\n",
              "      <td>Piaui</td>\n",
              "      <td>67.49</td>\n",
              "      <td>2.18</td>\n",
              "      <td>36.2</td>\n",
              "      <td>55.07</td>\n",
              "      <td>9.38</td>\n",
              "    </tr>\n",
              "  </tbody>\n",
              "</table>\n",
              "<p>890 rows × 6 columns</p>\n",
              "</div>\n",
              "    <div class=\"colab-df-buttons\">\n",
              "\n",
              "  <div class=\"colab-df-container\">\n",
              "    <button class=\"colab-df-convert\" onclick=\"convertToInteractive('df-e884cc75-ee69-4a8b-9196-075f00688d9f')\"\n",
              "            title=\"Convert this dataframe to an interactive table.\"\n",
              "            style=\"display:none;\">\n",
              "\n",
              "  <svg xmlns=\"http://www.w3.org/2000/svg\" height=\"24px\" viewBox=\"0 -960 960 960\">\n",
              "    <path d=\"M120-120v-720h720v720H120Zm60-500h600v-160H180v160Zm220 220h160v-160H400v160Zm0 220h160v-160H400v160ZM180-400h160v-160H180v160Zm440 0h160v-160H620v160ZM180-180h160v-160H180v160Zm440 0h160v-160H620v160Z\"/>\n",
              "  </svg>\n",
              "    </button>\n",
              "\n",
              "  <style>\n",
              "    .colab-df-container {\n",
              "      display:flex;\n",
              "      gap: 12px;\n",
              "    }\n",
              "\n",
              "    .colab-df-convert {\n",
              "      background-color: #E8F0FE;\n",
              "      border: none;\n",
              "      border-radius: 50%;\n",
              "      cursor: pointer;\n",
              "      display: none;\n",
              "      fill: #1967D2;\n",
              "      height: 32px;\n",
              "      padding: 0 0 0 0;\n",
              "      width: 32px;\n",
              "    }\n",
              "\n",
              "    .colab-df-convert:hover {\n",
              "      background-color: #E2EBFA;\n",
              "      box-shadow: 0px 1px 2px rgba(60, 64, 67, 0.3), 0px 1px 3px 1px rgba(60, 64, 67, 0.15);\n",
              "      fill: #174EA6;\n",
              "    }\n",
              "\n",
              "    .colab-df-buttons div {\n",
              "      margin-bottom: 4px;\n",
              "    }\n",
              "\n",
              "    [theme=dark] .colab-df-convert {\n",
              "      background-color: #3B4455;\n",
              "      fill: #D2E3FC;\n",
              "    }\n",
              "\n",
              "    [theme=dark] .colab-df-convert:hover {\n",
              "      background-color: #434B5C;\n",
              "      box-shadow: 0px 1px 3px 1px rgba(0, 0, 0, 0.15);\n",
              "      filter: drop-shadow(0px 1px 2px rgba(0, 0, 0, 0.3));\n",
              "      fill: #FFFFFF;\n",
              "    }\n",
              "  </style>\n",
              "\n",
              "    <script>\n",
              "      const buttonEl =\n",
              "        document.querySelector('#df-e884cc75-ee69-4a8b-9196-075f00688d9f button.colab-df-convert');\n",
              "      buttonEl.style.display =\n",
              "        google.colab.kernel.accessAllowed ? 'block' : 'none';\n",
              "\n",
              "      async function convertToInteractive(key) {\n",
              "        const element = document.querySelector('#df-e884cc75-ee69-4a8b-9196-075f00688d9f');\n",
              "        const dataTable =\n",
              "          await google.colab.kernel.invokeFunction('convertToInteractive',\n",
              "                                                    [key], {});\n",
              "        if (!dataTable) return;\n",
              "\n",
              "        const docLinkHtml = 'Like what you see? Visit the ' +\n",
              "          '<a target=\"_blank\" href=https://colab.research.google.com/notebooks/data_table.ipynb>data table notebook</a>'\n",
              "          + ' to learn more about interactive tables.';\n",
              "        element.innerHTML = '';\n",
              "        dataTable['output_type'] = 'display_data';\n",
              "        await google.colab.output.renderOutput(dataTable, element);\n",
              "        const docLink = document.createElement('div');\n",
              "        docLink.innerHTML = docLinkHtml;\n",
              "        element.appendChild(docLink);\n",
              "      }\n",
              "    </script>\n",
              "  </div>\n",
              "\n",
              "\n",
              "<div id=\"df-1ca1b343-5721-4779-a821-ec3779c77bf6\">\n",
              "  <button class=\"colab-df-quickchart\" onclick=\"quickchart('df-1ca1b343-5721-4779-a821-ec3779c77bf6')\"\n",
              "            title=\"Suggest charts\"\n",
              "            style=\"display:none;\">\n",
              "\n",
              "<svg xmlns=\"http://www.w3.org/2000/svg\" height=\"24px\"viewBox=\"0 0 24 24\"\n",
              "     width=\"24px\">\n",
              "    <g>\n",
              "        <path d=\"M19 3H5c-1.1 0-2 .9-2 2v14c0 1.1.9 2 2 2h14c1.1 0 2-.9 2-2V5c0-1.1-.9-2-2-2zM9 17H7v-7h2v7zm4 0h-2V7h2v10zm4 0h-2v-4h2v4z\"/>\n",
              "    </g>\n",
              "</svg>\n",
              "  </button>\n",
              "\n",
              "<style>\n",
              "  .colab-df-quickchart {\n",
              "      --bg-color: #E8F0FE;\n",
              "      --fill-color: #1967D2;\n",
              "      --hover-bg-color: #E2EBFA;\n",
              "      --hover-fill-color: #174EA6;\n",
              "      --disabled-fill-color: #AAA;\n",
              "      --disabled-bg-color: #DDD;\n",
              "  }\n",
              "\n",
              "  [theme=dark] .colab-df-quickchart {\n",
              "      --bg-color: #3B4455;\n",
              "      --fill-color: #D2E3FC;\n",
              "      --hover-bg-color: #434B5C;\n",
              "      --hover-fill-color: #FFFFFF;\n",
              "      --disabled-bg-color: #3B4455;\n",
              "      --disabled-fill-color: #666;\n",
              "  }\n",
              "\n",
              "  .colab-df-quickchart {\n",
              "    background-color: var(--bg-color);\n",
              "    border: none;\n",
              "    border-radius: 50%;\n",
              "    cursor: pointer;\n",
              "    display: none;\n",
              "    fill: var(--fill-color);\n",
              "    height: 32px;\n",
              "    padding: 0;\n",
              "    width: 32px;\n",
              "  }\n",
              "\n",
              "  .colab-df-quickchart:hover {\n",
              "    background-color: var(--hover-bg-color);\n",
              "    box-shadow: 0 1px 2px rgba(60, 64, 67, 0.3), 0 1px 3px 1px rgba(60, 64, 67, 0.15);\n",
              "    fill: var(--button-hover-fill-color);\n",
              "  }\n",
              "\n",
              "  .colab-df-quickchart-complete:disabled,\n",
              "  .colab-df-quickchart-complete:disabled:hover {\n",
              "    background-color: var(--disabled-bg-color);\n",
              "    fill: var(--disabled-fill-color);\n",
              "    box-shadow: none;\n",
              "  }\n",
              "\n",
              "  .colab-df-spinner {\n",
              "    border: 2px solid var(--fill-color);\n",
              "    border-color: transparent;\n",
              "    border-bottom-color: var(--fill-color);\n",
              "    animation:\n",
              "      spin 1s steps(1) infinite;\n",
              "  }\n",
              "\n",
              "  @keyframes spin {\n",
              "    0% {\n",
              "      border-color: transparent;\n",
              "      border-bottom-color: var(--fill-color);\n",
              "      border-left-color: var(--fill-color);\n",
              "    }\n",
              "    20% {\n",
              "      border-color: transparent;\n",
              "      border-left-color: var(--fill-color);\n",
              "      border-top-color: var(--fill-color);\n",
              "    }\n",
              "    30% {\n",
              "      border-color: transparent;\n",
              "      border-left-color: var(--fill-color);\n",
              "      border-top-color: var(--fill-color);\n",
              "      border-right-color: var(--fill-color);\n",
              "    }\n",
              "    40% {\n",
              "      border-color: transparent;\n",
              "      border-right-color: var(--fill-color);\n",
              "      border-top-color: var(--fill-color);\n",
              "    }\n",
              "    60% {\n",
              "      border-color: transparent;\n",
              "      border-right-color: var(--fill-color);\n",
              "    }\n",
              "    80% {\n",
              "      border-color: transparent;\n",
              "      border-right-color: var(--fill-color);\n",
              "      border-bottom-color: var(--fill-color);\n",
              "    }\n",
              "    90% {\n",
              "      border-color: transparent;\n",
              "      border-bottom-color: var(--fill-color);\n",
              "    }\n",
              "  }\n",
              "</style>\n",
              "\n",
              "  <script>\n",
              "    async function quickchart(key) {\n",
              "      const quickchartButtonEl =\n",
              "        document.querySelector('#' + key + ' button');\n",
              "      quickchartButtonEl.disabled = true;  // To prevent multiple clicks.\n",
              "      quickchartButtonEl.classList.add('colab-df-spinner');\n",
              "      try {\n",
              "        const charts = await google.colab.kernel.invokeFunction(\n",
              "            'suggestCharts', [key], {});\n",
              "      } catch (error) {\n",
              "        console.error('Error during call to suggestCharts:', error);\n",
              "      }\n",
              "      quickchartButtonEl.classList.remove('colab-df-spinner');\n",
              "      quickchartButtonEl.classList.add('colab-df-quickchart-complete');\n",
              "    }\n",
              "    (() => {\n",
              "      let quickchartButtonEl =\n",
              "        document.querySelector('#df-1ca1b343-5721-4779-a821-ec3779c77bf6 button');\n",
              "      quickchartButtonEl.style.display =\n",
              "        google.colab.kernel.accessAllowed ? 'block' : 'none';\n",
              "    })();\n",
              "  </script>\n",
              "</div>\n",
              "\n",
              "  <div id=\"id_c276b6f1-9ba1-4bcb-9551-bbe74643489c\">\n",
              "    <style>\n",
              "      .colab-df-generate {\n",
              "        background-color: #E8F0FE;\n",
              "        border: none;\n",
              "        border-radius: 50%;\n",
              "        cursor: pointer;\n",
              "        display: none;\n",
              "        fill: #1967D2;\n",
              "        height: 32px;\n",
              "        padding: 0 0 0 0;\n",
              "        width: 32px;\n",
              "      }\n",
              "\n",
              "      .colab-df-generate:hover {\n",
              "        background-color: #E2EBFA;\n",
              "        box-shadow: 0px 1px 2px rgba(60, 64, 67, 0.3), 0px 1px 3px 1px rgba(60, 64, 67, 0.15);\n",
              "        fill: #174EA6;\n",
              "      }\n",
              "\n",
              "      [theme=dark] .colab-df-generate {\n",
              "        background-color: #3B4455;\n",
              "        fill: #D2E3FC;\n",
              "      }\n",
              "\n",
              "      [theme=dark] .colab-df-generate:hover {\n",
              "        background-color: #434B5C;\n",
              "        box-shadow: 0px 1px 3px 1px rgba(0, 0, 0, 0.15);\n",
              "        filter: drop-shadow(0px 1px 2px rgba(0, 0, 0, 0.3));\n",
              "        fill: #FFFFFF;\n",
              "      }\n",
              "    </style>\n",
              "    <button class=\"colab-df-generate\" onclick=\"generateWithVariable('data')\"\n",
              "            title=\"Generate code using this dataframe.\"\n",
              "            style=\"display:none;\">\n",
              "\n",
              "  <svg xmlns=\"http://www.w3.org/2000/svg\" height=\"24px\"viewBox=\"0 0 24 24\"\n",
              "       width=\"24px\">\n",
              "    <path d=\"M7,19H8.4L18.45,9,17,7.55,7,17.6ZM5,21V16.75L18.45,3.32a2,2,0,0,1,2.83,0l1.4,1.43a1.91,1.91,0,0,1,.58,1.4,1.91,1.91,0,0,1-.58,1.4L9.25,21ZM18.45,9,17,7.55Zm-12,3A5.31,5.31,0,0,0,4.9,8.1,5.31,5.31,0,0,0,1,6.5,5.31,5.31,0,0,0,4.9,4.9,5.31,5.31,0,0,0,6.5,1,5.31,5.31,0,0,0,8.1,4.9,5.31,5.31,0,0,0,12,6.5,5.46,5.46,0,0,0,6.5,12Z\"/>\n",
              "  </svg>\n",
              "    </button>\n",
              "    <script>\n",
              "      (() => {\n",
              "      const buttonEl =\n",
              "        document.querySelector('#id_c276b6f1-9ba1-4bcb-9551-bbe74643489c button.colab-df-generate');\n",
              "      buttonEl.style.display =\n",
              "        google.colab.kernel.accessAllowed ? 'block' : 'none';\n",
              "\n",
              "      buttonEl.onclick = () => {\n",
              "        google.colab.notebook.generateWithVariable('data');\n",
              "      }\n",
              "      })();\n",
              "    </script>\n",
              "  </div>\n",
              "\n",
              "    </div>\n",
              "  </div>\n"
            ],
            "application/vnd.google.colaboratory.intrinsic+json": {
              "type": "dataframe",
              "variable_name": "data",
              "summary": "{\n  \"name\": \"data\",\n  \"rows\": 890,\n  \"fields\": [\n    {\n      \"column\": \"uf\",\n      \"properties\": {\n        \"dtype\": \"category\",\n        \"num_unique_values\": 9,\n        \"samples\": [\n          \"Maranhao\",\n          \"Acre\",\n          \"Amapa\"\n        ],\n        \"semantic_type\": \"\",\n        \"description\": \"\"\n      }\n    },\n    {\n      \"column\": \"espvida\",\n      \"properties\": {\n        \"dtype\": \"number\",\n        \"std\": 2.0127731348615696,\n        \"min\": 65.64,\n        \"max\": 75.81,\n        \"num_unique_values\": 490,\n        \"samples\": [\n          70.2,\n          68.63,\n          68.23\n        ],\n        \"semantic_type\": \"\",\n        \"description\": \"\"\n      }\n    },\n    {\n      \"column\": \"fectot\",\n      \"properties\": {\n        \"dtype\": \"number\",\n        \"std\": 0.5816485723707038,\n        \"min\": 1.42,\n        \"max\": 4.89,\n        \"num_unique_values\": 237,\n        \"samples\": [\n          1.7,\n          2.18,\n          3.58\n        ],\n        \"semantic_type\": \"\",\n        \"description\": \"\"\n      }\n    },\n    {\n      \"column\": \"mort1\",\n      \"properties\": {\n        \"dtype\": \"number\",\n        \"std\": 6.653428582241652,\n        \"min\": 12.4,\n        \"max\": 45.3,\n        \"num_unique_values\": 288,\n        \"samples\": [\n          24.4,\n          17.1,\n          29.1\n        ],\n        \"semantic_type\": \"\",\n        \"description\": \"\"\n      }\n    },\n    {\n      \"column\": \"razdep\",\n      \"properties\": {\n        \"dtype\": \"number\",\n        \"std\": 10.128412175234622,\n        \"min\": 40.67,\n        \"max\": 118.04,\n        \"num_unique_values\": 782,\n        \"samples\": [\n          64.63,\n          66.69,\n          79.01\n        ],\n        \"semantic_type\": \"\",\n        \"description\": \"\"\n      }\n    },\n    {\n      \"column\": \"e_anosestudo\",\n      \"properties\": {\n        \"dtype\": \"number\",\n        \"std\": 1.0974082765743403,\n        \"min\": 4.34,\n        \"max\": 11.53,\n        \"num_unique_values\": 365,\n        \"samples\": [\n          7.64,\n          9.0,\n          9.08\n        ],\n        \"semantic_type\": \"\",\n        \"description\": \"\"\n      }\n    }\n  ]\n}"
            }
          },
          "metadata": {},
          "execution_count": 21
        }
      ]
    },
    {
      "cell_type": "code",
      "source": [
        "from scipy.stats import spearmanr\n",
        "\n",
        "r2, p4 = spearmanr(data.fectot, data.mort1)\n",
        "\n",
        "# O valor de r é o coeficiente de correlação de Spearman entre x e y\n",
        "# Ele mede a força e a direção da relação monotônica entre as duas variáveis\n",
        "# Se r for positivo, há uma relação positiva (quanto maior x, maior y)\n",
        "# Se r for negativo, há uma relação negativa (quanto maior x, menor y)\n",
        "# Quanto mais próximo de 1 ou -1, maior é a força da relação\n",
        "# Se r for próximo de 0, não há uma relação monotônica significativa entre as variáveis\n",
        "\n",
        "# O valor de p é o p-valor do teste de correlação de Spearman\n",
        "# Se p for menor que o nível de significância escolhido (geralmente 0,05),\n",
        "# então você pode rejeitar a hipótese nula de que não há relação entre as variáveis\n",
        "\n",
        "if(p4 > 0.05):\n",
        "\n",
        "  print(\"A hipótese nula não pode ser rejeitada (não há relação entre as variáveis)\")\n",
        "\n",
        "else:\n",
        "\n",
        "    print(\"A hipótese nula é rejeitada (há uma relação entre as variáveis)\")"
      ],
      "metadata": {
        "colab": {
          "base_uri": "https://localhost:8080/"
        },
        "id": "EC23d_a_DlB2",
        "outputId": "5644ea72-ef07-4ae7-eb63-626aca436f40"
      },
      "execution_count": null,
      "outputs": [
        {
          "output_type": "stream",
          "name": "stdout",
          "text": [
            "A hipótese nula é rejeitada (há uma relação entre as variáveis)\n"
          ]
        }
      ]
    },
    {
      "cell_type": "code",
      "source": [
        "p4"
      ],
      "metadata": {
        "colab": {
          "base_uri": "https://localhost:8080/"
        },
        "id": "Tk6JM5EkEckx",
        "outputId": "0868bd60-b99d-48c4-a374-dd372bafbb3d"
      },
      "execution_count": null,
      "outputs": [
        {
          "output_type": "execute_result",
          "data": {
            "text/plain": [
              "0.0009941638016439814"
            ]
          },
          "metadata": {},
          "execution_count": 13
        }
      ]
    },
    {
      "cell_type": "code",
      "source": [
        "r2"
      ],
      "metadata": {
        "colab": {
          "base_uri": "https://localhost:8080/"
        },
        "id": "MC1giZ6zEepc",
        "outputId": "d0dbd374-2367-4f95-8e2d-6e7be067b7f2"
      },
      "execution_count": null,
      "outputs": [
        {
          "output_type": "execute_result",
          "data": {
            "text/plain": [
              "0.11017263789182423"
            ]
          },
          "metadata": {},
          "execution_count": 16
        }
      ]
    },
    {
      "cell_type": "markdown",
      "source": [
        "##**Covariância**"
      ],
      "metadata": {
        "id": "FxxjRWgYE0TM"
      }
    },
    {
      "cell_type": "code",
      "source": [
        "import numpy as np\n",
        "\n",
        "# Suponha que você tenha dois arrays de dados chamados 'x' e 'y'\n",
        "\n",
        "covariance = np.cov(data.fectot, data.mort1)\n",
        "\n",
        "# O valor de covariância é uma matriz 2x2 que contém a covariância entre x e y,\n",
        "# bem como a variância de x e y\n",
        "# A covariância entre x e y é dada pela posição (0, 1) ou (1, 0) da matriz\n",
        "# A variância de x é dada pela posição (0, 0) da matriz\n",
        "# A variância de y é dada pela posição (1, 1) da matriz\n",
        "\n",
        "cov_xy = covariance[0, 1]\n",
        "var_x = covariance[0, 0]\n",
        "var_y = covariance[1, 1]\n",
        "\n",
        "# A covariância é uma medida da relação linear entre as variáveis\n",
        "# Se cov_xy for positivo, há uma relação positiva\n"
      ],
      "metadata": {
        "id": "K9sURE6eE5Y6"
      },
      "execution_count": null,
      "outputs": []
    },
    {
      "cell_type": "markdown",
      "source": [
        "##**Regressão Linear Simples**\n",
        "\n",
        "Uma variável dependente\n",
        "\n",
        "Uma variável independente\n",
        "\n",
        "É um teste paramétrico pois temos pressupostos que devem ser cumpridos, a fim de que o teste tenha validade."
      ],
      "metadata": {
        "id": "VW2jOABIFHPl"
      }
    },
    {
      "cell_type": "code",
      "source": [
        "import matplotlib.pyplot as plt\n",
        "\n",
        "plt.scatter(data.mort1, data.espvida)\n",
        "plt.xlabel('mort1')\n",
        "plt.ylabel('espvida')"
      ],
      "metadata": {
        "colab": {
          "base_uri": "https://localhost:8080/",
          "height": 466
        },
        "id": "RoOpDl1LFVpk",
        "outputId": "eec2b8e7-2157-4245-d28f-3bf2a1587792"
      },
      "execution_count": null,
      "outputs": [
        {
          "output_type": "execute_result",
          "data": {
            "text/plain": [
              "Text(0, 0.5, 't_analf25m')"
            ]
          },
          "metadata": {},
          "execution_count": 22
        },
        {
          "output_type": "display_data",
          "data": {
            "text/plain": [
              "<Figure size 640x480 with 1 Axes>"
            ],
            "image/png": "[encoded data removed]"
          },
          "metadata": {}
        }
      ]
    },
    {
      "cell_type": "code",
      "source": [
        "import statsmodels.formula.api as sm\n",
        "\n",
        "# Executa a regressão linear\n",
        "model = sm.ols(formula=\"espvida ~ mort1\", data=data).fit()\n",
        "\n",
        "# Exibe os resultados\n",
        "print(model.summary())"
      ],
      "metadata": {
        "colab": {
          "base_uri": "https://localhost:8080/"
        },
        "id": "yWZGpx74HDCc",
        "outputId": "c776673c-29cb-4d49-bddc-f0097f1a2292"
      },
      "execution_count": null,
      "outputs": [
        {
          "output_type": "stream",
          "name": "stdout",
          "text": [
            "                            OLS Regression Results                            \n",
            "==============================================================================\n",
            "Dep. Variable:                espvida   R-squared:                       0.963\n",
            "Model:                            OLS   Adj. R-squared:                  0.963\n",
            "Method:                 Least Squares   F-statistic:                 2.323e+04\n",
            "Date:                Tue, 27 Feb 2024   Prob (F-statistic):               0.00\n",
            "Time:                        05:49:45   Log-Likelihood:                -415.69\n",
            "No. Observations:                 890   AIC:                             835.4\n",
            "Df Residuals:                     888   BIC:                             845.0\n",
            "Df Model:                           1                                         \n",
            "Covariance Type:            nonrobust                                         \n",
            "==============================================================================\n",
            "                 coef    std err          t      P>|t|      [0.025      0.975]\n",
            "------------------------------------------------------------------------------\n",
            "Intercept     78.3909      0.052   1517.754      0.000      78.289      78.492\n",
            "mort1         -0.2969      0.002   -152.407      0.000      -0.301      -0.293\n",
            "==============================================================================\n",
            "Omnibus:                        4.486   Durbin-Watson:                   0.978\n",
            "Prob(Omnibus):                  0.106   Jarque-Bera (JB):                4.398\n",
            "Skew:                          -0.140   Prob(JB):                        0.111\n",
            "Kurtosis:                       3.199   Cond. No.                         106.\n",
            "==============================================================================\n",
            "\n",
            "Notes:\n",
            "[1] Standard Errors assume that the covariance matrix of the errors is correctly specified.\n"
          ]
        }
      ]
    }
  ]
}