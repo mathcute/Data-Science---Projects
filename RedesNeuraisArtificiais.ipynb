{
  "nbformat": 4,
  "nbformat_minor": 0,
  "metadata": {
    "colab": {
      "provenance": [],
      "authorship_tag": "ABX9TyNhAWbfqLuGe01RM5rA53D7",
      "include_colab_link": true
    },
    "kernelspec": {
      "name": "python3",
      "display_name": "Python 3"
    },
    "language_info": {
      "name": "python"
    }
  },
  "cells": [
    {
      "cell_type": "markdown",
      "metadata": {
        "id": "view-in-github",
        "colab_type": "text"
      },
      "source": [
        "<a href=\"https://colab.research.google.com/github/mathcute/Data-Science---Projects/blob/main/RedesNeuraisArtificiais.ipynb\" target=\"_parent\"><img src=\"https://colab.research.google.com/assets/colab-badge.svg\" alt=\"Open In Colab\"/></a>"
      ]
    },
    {
      "cell_type": "code",
      "execution_count": 2,
      "metadata": {
        "id": "jtTGXoEtzIBK"
      },
      "outputs": [],
      "source": [
        "import warnings\n",
        "import pandas as pd\n",
        "\n",
        "warnings.filterwarnings(\"ignore\")"
      ]
    },
    {
      "cell_type": "code",
      "source": [
        "from sklearn.model_selection import train_test_split\n",
        "\n",
        "data = pd.read_csv('/content/atlas2010_recorte.csv', delimiter = ',')\n",
        "X = data[['mort1', 'razdep', 'e_anosestudo']]\n",
        "y = data[['fectot']]\n",
        "\n",
        "X_train, X_test, y_train, y_test = train_test_split(X, y, test_size = 0.3)"
      ],
      "metadata": {
        "id": "MYgXaooDzpOJ"
      },
      "execution_count": 3,
      "outputs": []
    },
    {
      "cell_type": "code",
      "source": [
        "from keras.models import Sequential\n",
        "from keras.layers import Dense\n",
        "from keras.optimizers import Adam\n",
        "\n",
        "model = Sequential()\n",
        "model.add(Dense(10, input_dim = 3, activation = 'linear'))\n",
        "model.add(Dense(6, activation = 'relu'))\n",
        "model.add(Dense(1, activation = 'linear'))\n",
        "\n",
        "model.compile(loss = 'mse', optimizer = Adam(learning_rate = 0.1), metrics = ['mse'])\n",
        "model.fit(X_train, y_train, epochs = 30, batch_size = 40, verbose = 1)"
      ],
      "metadata": {
        "colab": {
          "base_uri": "https://localhost:8080/"
        },
        "id": "dKLFY96113CD",
        "outputId": "086370c9-7c68-4e11-91ea-f77930a0a1f2"
      },
      "execution_count": 6,
      "outputs": [
        {
          "output_type": "stream",
          "name": "stdout",
          "text": [
            "Epoch 1/30\n",
            "16/16 [==============================] - 1s 3ms/step - loss: 69.6057 - mse: 69.6057\n",
            "Epoch 2/30\n",
            "16/16 [==============================] - 0s 2ms/step - loss: 8.4351 - mse: 8.4351\n",
            "Epoch 3/30\n",
            "16/16 [==============================] - 0s 2ms/step - loss: 5.3347 - mse: 5.3347\n",
            "Epoch 4/30\n",
            "16/16 [==============================] - 0s 2ms/step - loss: 2.7743 - mse: 2.7743\n",
            "Epoch 5/30\n",
            "16/16 [==============================] - 0s 2ms/step - loss: 1.3123 - mse: 1.3123\n",
            "Epoch 6/30\n",
            "16/16 [==============================] - 0s 3ms/step - loss: 0.6621 - mse: 0.6621\n",
            "Epoch 7/30\n",
            "16/16 [==============================] - 0s 3ms/step - loss: 0.4190 - mse: 0.4190\n",
            "Epoch 8/30\n",
            "16/16 [==============================] - 0s 3ms/step - loss: 0.3566 - mse: 0.3566\n",
            "Epoch 9/30\n",
            "16/16 [==============================] - 0s 3ms/step - loss: 0.3402 - mse: 0.3402\n",
            "Epoch 10/30\n",
            "16/16 [==============================] - 0s 2ms/step - loss: 0.3380 - mse: 0.3380\n",
            "Epoch 11/30\n",
            "16/16 [==============================] - 0s 2ms/step - loss: 0.3374 - mse: 0.3374\n",
            "Epoch 12/30\n",
            "16/16 [==============================] - 0s 2ms/step - loss: 0.3373 - mse: 0.3373\n",
            "Epoch 13/30\n",
            "16/16 [==============================] - 0s 2ms/step - loss: 0.3373 - mse: 0.3373\n",
            "Epoch 14/30\n",
            "16/16 [==============================] - 0s 2ms/step - loss: 0.3376 - mse: 0.3376\n",
            "Epoch 15/30\n",
            "16/16 [==============================] - 0s 2ms/step - loss: 0.3375 - mse: 0.3375\n",
            "Epoch 16/30\n",
            "16/16 [==============================] - 0s 2ms/step - loss: 0.3374 - mse: 0.3374\n",
            "Epoch 17/30\n",
            "16/16 [==============================] - 0s 2ms/step - loss: 0.3376 - mse: 0.3376\n",
            "Epoch 18/30\n",
            "16/16 [==============================] - 0s 3ms/step - loss: 0.3373 - mse: 0.3373\n",
            "Epoch 19/30\n",
            "16/16 [==============================] - 0s 2ms/step - loss: 0.3373 - mse: 0.3373\n",
            "Epoch 20/30\n",
            "16/16 [==============================] - 0s 2ms/step - loss: 0.3373 - mse: 0.3373\n",
            "Epoch 21/30\n",
            "16/16 [==============================] - 0s 2ms/step - loss: 0.3373 - mse: 0.3373\n",
            "Epoch 22/30\n",
            "16/16 [==============================] - 0s 2ms/step - loss: 0.3374 - mse: 0.3374\n",
            "Epoch 23/30\n",
            "16/16 [==============================] - 0s 2ms/step - loss: 0.3376 - mse: 0.3376\n",
            "Epoch 24/30\n",
            "16/16 [==============================] - 0s 2ms/step - loss: 0.3375 - mse: 0.3375\n",
            "Epoch 25/30\n",
            "16/16 [==============================] - 0s 2ms/step - loss: 0.3376 - mse: 0.3376\n",
            "Epoch 26/30\n",
            "16/16 [==============================] - 0s 2ms/step - loss: 0.3374 - mse: 0.3374\n",
            "Epoch 27/30\n",
            "16/16 [==============================] - 0s 2ms/step - loss: 0.3373 - mse: 0.3373\n",
            "Epoch 28/30\n",
            "16/16 [==============================] - 0s 2ms/step - loss: 0.3377 - mse: 0.3377\n",
            "Epoch 29/30\n",
            "16/16 [==============================] - 0s 2ms/step - loss: 0.3373 - mse: 0.3373\n",
            "Epoch 30/30\n",
            "16/16 [==============================] - 0s 2ms/step - loss: 0.3374 - mse: 0.3374\n"
          ]
        },
        {
          "output_type": "execute_result",
          "data": {
            "text/plain": [
              "<keras.src.callbacks.History at 0x7c0b363d2830>"
            ]
          },
          "metadata": {},
          "execution_count": 6
        }
      ]
    },
    {
      "cell_type": "code",
      "source": [
        "model.summary()"
      ],
      "metadata": {
        "colab": {
          "base_uri": "https://localhost:8080/"
        },
        "id": "gzIe6vXG4fuI",
        "outputId": "b4c15f94-ab05-415c-806a-abdcfd690c18"
      },
      "execution_count": 7,
      "outputs": [
        {
          "output_type": "stream",
          "name": "stdout",
          "text": [
            "Model: \"sequential_1\"\n",
            "_________________________________________________________________\n",
            " Layer (type)                Output Shape              Param #   \n",
            "=================================================================\n",
            " dense_3 (Dense)             (None, 10)                40        \n",
            "                                                                 \n",
            " dense_4 (Dense)             (None, 6)                 66        \n",
            "                                                                 \n",
            " dense_5 (Dense)             (None, 1)                 7         \n",
            "                                                                 \n",
            "=================================================================\n",
            "Total params: 113 (452.00 Byte)\n",
            "Trainable params: 113 (452.00 Byte)\n",
            "Non-trainable params: 0 (0.00 Byte)\n",
            "_________________________________________________________________\n"
          ]
        }
      ]
    },
    {
      "cell_type": "markdown",
      "source": [
        "##Avaliando o modelo com o r2"
      ],
      "metadata": {
        "id": "ElTA9E4p5H32"
      }
    },
    {
      "cell_type": "code",
      "source": [
        "from sklearn.metrics import r2_score\n",
        "\n",
        "y_pred = model.predict(X_test)\n",
        "\n",
        "r2 = r2_score(y_test, y_pred)\n",
        "\n",
        "print(r2)"
      ],
      "metadata": {
        "colab": {
          "base_uri": "https://localhost:8080/"
        },
        "id": "cLsQBSJO5LQ0",
        "outputId": "ab9a7a7d-7172-4fd0-bad3-8548337700c3"
      },
      "execution_count": 8,
      "outputs": [
        {
          "output_type": "stream",
          "name": "stdout",
          "text": [
            "9/9 [==============================] - 0s 4ms/step\n",
            "-5.623262023179976e-05\n"
          ]
        }
      ]
    },
    {
      "cell_type": "markdown",
      "source": [
        "##Gerando um segundo modelo"
      ],
      "metadata": {
        "id": "wg2GLxk06bLE"
      }
    },
    {
      "cell_type": "code",
      "source": [
        "model = Sequential()\n",
        "model.add(Dense(6, input_dim = 3, activation = 'linear'))\n",
        "model.add(Dense(3, activation = 'relu'))\n",
        "model.add(Dense(1, activation = 'linear'))\n",
        "\n",
        "model.compile(loss = 'mse', optimizer = Adam(learning_rate = 0.1), metrics = ['mse'])\n",
        "model.fit(X_train, y_train, epochs = 40, batch_size = 35, verbose = 0)"
      ],
      "metadata": {
        "colab": {
          "base_uri": "https://localhost:8080/"
        },
        "id": "HeU9JbQe6fTj",
        "outputId": "ea450565-a13f-48f8-b331-a6e5980415a4"
      },
      "execution_count": 18,
      "outputs": [
        {
          "output_type": "execute_result",
          "data": {
            "text/plain": [
              "<keras.src.callbacks.History at 0x7c0b36842fb0>"
            ]
          },
          "metadata": {},
          "execution_count": 18
        }
      ]
    },
    {
      "cell_type": "code",
      "source": [
        "y_pred = model.predict(X_test)\n",
        "\n",
        "r2 = r2_score(y_test, y_pred)\n",
        "print(r2)"
      ],
      "metadata": {
        "colab": {
          "base_uri": "https://localhost:8080/"
        },
        "id": "_qiZBqnuGMN2",
        "outputId": "b8529820-3fe0-4126-a8f9-7cd5f5e24d92"
      },
      "execution_count": 19,
      "outputs": [
        {
          "output_type": "stream",
          "name": "stdout",
          "text": [
            "9/9 [==============================] - 0s 2ms/step\n",
            "-0.002524128736203224\n"
          ]
        }
      ]
    },
    {
      "cell_type": "markdown",
      "source": [
        "##Gerando um terceiro modelo"
      ],
      "metadata": {
        "id": "vprlurdyHlo-"
      }
    },
    {
      "cell_type": "code",
      "source": [
        "model = Sequential()\n",
        "model.add(Dense(6, input_dim = 3, activation = 'linear'))\n",
        "model.add(Dense(3, activation = 'sigmoid'))\n",
        "model.add(Dense(1, activation = 'linear'))\n",
        "\n",
        "model.compile(loss = 'mse', optimizer = Adam(learning_rate = 0.1), metrics = ['mse'])\n",
        "model.fit(X_train, y_train, epochs = 40, batch_size = 35, verbose = 0)"
      ],
      "metadata": {
        "colab": {
          "base_uri": "https://localhost:8080/"
        },
        "id": "m-IYl32jHolA",
        "outputId": "969eabcc-5988-4294-bbf4-e15070d41064"
      },
      "execution_count": 20,
      "outputs": [
        {
          "output_type": "execute_result",
          "data": {
            "text/plain": [
              "<keras.src.callbacks.History at 0x7c0b36855ba0>"
            ]
          },
          "metadata": {},
          "execution_count": 20
        }
      ]
    },
    {
      "cell_type": "code",
      "source": [
        "y_pred = model.predict(X_test)\n",
        "\n",
        "r2 = r2_score(y_test, y_pred)\n",
        "print(r2)"
      ],
      "metadata": {
        "colab": {
          "base_uri": "https://localhost:8080/"
        },
        "id": "PbB8FntTH6Er",
        "outputId": "7d2ddea7-db8c-4e42-d45b-f51290b85da9"
      },
      "execution_count": 21,
      "outputs": [
        {
          "output_type": "stream",
          "name": "stdout",
          "text": [
            "9/9 [==============================] - 0s 2ms/step\n",
            "-0.060860894499396245\n"
          ]
        }
      ]
    },
    {
      "cell_type": "markdown",
      "source": [
        "##Gerando um quarto modelo"
      ],
      "metadata": {
        "id": "tJwROqCnI0UM"
      }
    },
    {
      "cell_type": "code",
      "source": [
        "model = Sequential()\n",
        "model.add(Dense(6, input_dim = 3, activation = 'linear'))\n",
        "model.add(Dense(3, activation = 'linear'))\n",
        "model.add(Dense(1, activation = 'linear'))\n",
        "\n",
        "model.compile(loss = 'mse', optimizer = Adam(learning_rate = 0.1), metrics = ['mse'])\n",
        "\n",
        "model.fit(X_train, y_train, epochs = 40, batch_size = 35, verbose = 0)"
      ],
      "metadata": {
        "colab": {
          "base_uri": "https://localhost:8080/"
        },
        "id": "edK0yLMYI-Xj",
        "outputId": "aa6ee635-85b2-4ce6-89d8-6491c9fd8570"
      },
      "execution_count": 22,
      "outputs": [
        {
          "output_type": "execute_result",
          "data": {
            "text/plain": [
              "<keras.src.callbacks.History at 0x7c0b233b4b50>"
            ]
          },
          "metadata": {},
          "execution_count": 22
        }
      ]
    },
    {
      "cell_type": "code",
      "source": [
        "y_pred = model.predict(X_test)\n",
        "\n",
        "r2 = r2_score(y_test, y_pred)\n",
        "\n",
        "print(r2)"
      ],
      "metadata": {
        "colab": {
          "base_uri": "https://localhost:8080/"
        },
        "id": "FVqS7OdmJSZb",
        "outputId": "1eece053-50bd-406d-b368-dbd6feb3aae2"
      },
      "execution_count": 23,
      "outputs": [
        {
          "output_type": "stream",
          "name": "stdout",
          "text": [
            "9/9 [==============================] - 0s 3ms/step\n",
            "0.6659100290502032\n"
          ]
        }
      ]
    },
    {
      "cell_type": "markdown",
      "source": [
        "##Gerando um quinto modelo"
      ],
      "metadata": {
        "id": "oI8EacCEJ1ov"
      }
    },
    {
      "cell_type": "code",
      "source": [
        "model = Sequential()\n",
        "model.add(Dense(6, input_dim = 3, activation = 'linear'))\n",
        "model.add(Dense(4, activation = 'linear'))\n",
        "model.add(Dense(2, activation = 'linear'))\n",
        "model.add(Dense(1, activation = 'linear'))\n",
        "\n",
        "model.compile(loss = 'mse', optimizer = Adam(learning_rate = 0.1), metrics = ['mse'])\n",
        "\n",
        "model.fit(X_train, y_train, epochs = 40, batch_size = 35, verbose = 0)"
      ],
      "metadata": {
        "colab": {
          "base_uri": "https://localhost:8080/"
        },
        "id": "GDOzeYcTJ5g1",
        "outputId": "d7c8081b-5fc9-4566-f37f-96407259827a"
      },
      "execution_count": 24,
      "outputs": [
        {
          "output_type": "execute_result",
          "data": {
            "text/plain": [
              "<keras.src.callbacks.History at 0x7c0b368c4af0>"
            ]
          },
          "metadata": {},
          "execution_count": 24
        }
      ]
    },
    {
      "cell_type": "code",
      "source": [
        "y_pred = model.predict(X_test)\n",
        "\n",
        "r2 = r2_score(y_test, y_pred)\n",
        "\n",
        "print(r2)"
      ],
      "metadata": {
        "colab": {
          "base_uri": "https://localhost:8080/"
        },
        "id": "yJIiRTTaLtHR",
        "outputId": "f1a05cab-6c2f-4290-99b4-757f5a829cd8"
      },
      "execution_count": 25,
      "outputs": [
        {
          "output_type": "stream",
          "name": "stdout",
          "text": [
            "9/9 [==============================] - 0s 2ms/step\n",
            "0.6913257665578749\n"
          ]
        }
      ]
    },
    {
      "cell_type": "markdown",
      "source": [
        "##Hiperparâmetros"
      ],
      "metadata": {
        "id": "yDP-_M4XM3Jg"
      }
    },
    {
      "cell_type": "markdown",
      "source": [
        "**Learning_rate**"
      ],
      "metadata": {
        "id": "hu8-bdvcM65P"
      }
    },
    {
      "cell_type": "code",
      "source": [
        "model = Sequential()\n",
        "model.add(Dense(6, input_dim = 3, activation = 'linear'))\n",
        "model.add(Dense(4, activation = 'linear'))\n",
        "model.add(Dense(2, activation = 'linear'))\n",
        "model.add(Dense(1, activation = 'linear'))\n",
        "\n",
        "model.compile(loss = 'mse', optimizer = Adam(learning_rate = 0.15), metrics = ['mse'])\n",
        "\n",
        "model.fit(X_train, y_train, epochs = 40, batch_size = 35, verbose = 0)"
      ],
      "metadata": {
        "colab": {
          "base_uri": "https://localhost:8080/"
        },
        "id": "kmdBT8X-M-bz",
        "outputId": "fce77923-f18a-47ce-ecc8-32ec93266491"
      },
      "execution_count": 26,
      "outputs": [
        {
          "output_type": "execute_result",
          "data": {
            "text/plain": [
              "<keras.src.callbacks.History at 0x7c0b35a85360>"
            ]
          },
          "metadata": {},
          "execution_count": 26
        }
      ]
    },
    {
      "cell_type": "code",
      "source": [
        "y_pred = model.predict(X_test)\n",
        "\n",
        "r2 = r2_score(y_test, y_pred)\n",
        "\n",
        "print(r2)"
      ],
      "metadata": {
        "colab": {
          "base_uri": "https://localhost:8080/"
        },
        "id": "IwH8GBs-NXpt",
        "outputId": "bf3324a7-c983-45d2-893d-a46800272787"
      },
      "execution_count": 27,
      "outputs": [
        {
          "output_type": "stream",
          "name": "stdout",
          "text": [
            "9/9 [==============================] - 0s 2ms/step\n",
            "0.6661247960455772\n"
          ]
        }
      ]
    },
    {
      "cell_type": "markdown",
      "source": [
        "**Epochs**"
      ],
      "metadata": {
        "id": "ccsztw1pOHzh"
      }
    },
    {
      "cell_type": "code",
      "source": [
        "model = Sequential()\n",
        "model.add(Dense(6, input_dim=3, activation = 'linear'))\n",
        "model.add(Dense(4, activation = 'linear'))\n",
        "model.add(Dense(2, activation = 'linear'))\n",
        "model.add(Dense(1, activation = 'linear'))\n",
        "\n",
        "model.compile(loss = 'mse', optimizer = Adam(learning_rate = 0.1), metrics = ['mse'])\n",
        "\n",
        "model.fit(X_train, y_train, epochs = 30, batch_size = 35, verbose = 0)"
      ],
      "metadata": {
        "colab": {
          "base_uri": "https://localhost:8080/"
        },
        "id": "hePK0VbPOKhZ",
        "outputId": "72cba28d-f8b8-4623-e3cf-4babee3ed2eb"
      },
      "execution_count": 28,
      "outputs": [
        {
          "output_type": "execute_result",
          "data": {
            "text/plain": [
              "<keras.src.callbacks.History at 0x7c0b2111ae90>"
            ]
          },
          "metadata": {},
          "execution_count": 28
        }
      ]
    },
    {
      "cell_type": "code",
      "source": [
        "y_pred = model.predict(X_test)\n",
        "\n",
        "r2 = r2_score(y_test, y_pred)\n",
        "\n",
        "print(r2)"
      ],
      "metadata": {
        "colab": {
          "base_uri": "https://localhost:8080/"
        },
        "id": "SiOxvnykPDXt",
        "outputId": "d81465ae-6840-421a-c64f-330f2d45a771"
      },
      "execution_count": 29,
      "outputs": [
        {
          "output_type": "stream",
          "name": "stdout",
          "text": [
            "9/9 [==============================] - 0s 2ms/step\n",
            "0.550363692486473\n"
          ]
        }
      ]
    },
    {
      "cell_type": "markdown",
      "source": [
        "##Algoritmos de otimização\n",
        "\n",
        "SGD (Stochastic Gradient Descent): use para conjuntos de dados grandes e muitos parâmetros. Atualiza parâmetros com base no gradiente de uma amostra aleatória.\n",
        "\n",
        "RMSprop: use para acelerar a convergência quando gradientes têm variações grandes. Adaptativamente ajusta a taxa de aprendizagem por parâmetro.\n",
        "\n",
        "Adam: use para acelerar a convergência e controlar a taxa de aprendizagem adaptativamente. Combina gradiente médio e variação em gradiente.\n",
        "\n",
        "Adadelta: use para conjuntos de dados grandes e complexos, ajustando a taxa de aprendizagem por parâmetro. Usa uma média móvel de gradiente e uma média móvel de atualização de parâmetro.\n",
        "\n",
        "Adagrad: use para conjuntos de dados esparsos (na ponta, muitos resultados possuem amostras zeradas) e muitos parâmetros. Adapta a taxa de aprendizagem para cada parâmetro baseado no histórico de gradiente.\n",
        "\n",
        "Adamax: use para conjuntos de dados grandes, muitos parâmetros e necessidade de controle de taxa de aprendizagem. Uma variante de Adam que usa a norma infinita dos gradientes.\n",
        "\n",
        "Nadam: use para acelerar a convergência e controlar a taxa de aprendizagem adaptativamente. Combina Nesterov Momentum com Adam.\n",
        "\n",
        "FTRL: use para otimização de aprendizado online e conjuntos de dados grandes e esparsos. Usa uma abordagem de regularização L1 para lidar com recursos raros.\n"
      ],
      "metadata": {
        "id": "KZ2wggxnPKJL"
      }
    },
    {
      "cell_type": "code",
      "source": [
        "model = Sequential()\n",
        "model.add(Dense(6, input_dim = 3, activation = 'linear'))\n",
        "model.add(Dense(4, activation = 'linear'))\n",
        "model.add(Dense(2, activation = 'linear'))\n",
        "model.add(Dense(1, activation = 'linear'))\n",
        "\n",
        "model.compile(loss = 'mse', optimizer = Adam(learning_rate = 0.03), metrics = ['mse'])\n",
        "\n",
        "model.fit(X_train, y_train, epochs = 60, batch_size = 35, verbose = 0)"
      ],
      "metadata": {
        "colab": {
          "base_uri": "https://localhost:8080/"
        },
        "id": "gNCCsx35PQyl",
        "outputId": "55ce6252-22b7-4f6f-b8f8-84d0f4f577b7"
      },
      "execution_count": 30,
      "outputs": [
        {
          "output_type": "execute_result",
          "data": {
            "text/plain": [
              "<keras.src.callbacks.History at 0x7c0b20e93010>"
            ]
          },
          "metadata": {},
          "execution_count": 30
        }
      ]
    },
    {
      "cell_type": "code",
      "source": [
        "y_pred = model.predict(X_test)\n",
        "\n",
        "r2 = r2_score(y_test, y_pred)\n",
        "\n",
        "print(r2)"
      ],
      "metadata": {
        "colab": {
          "base_uri": "https://localhost:8080/"
        },
        "id": "mnGf__zyP0l-",
        "outputId": "4800008c-d72b-4466-e27b-07b1849b5050"
      },
      "execution_count": 31,
      "outputs": [
        {
          "output_type": "stream",
          "name": "stdout",
          "text": [
            "9/9 [==============================] - 0s 2ms/step\n",
            "0.7003297640511332\n"
          ]
        }
      ]
    }
  ]
}