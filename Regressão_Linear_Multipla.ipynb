{
  "nbformat": 4,
  "nbformat_minor": 0,
  "metadata": {
    "colab": {
      "provenance": [],
      "authorship_tag": "ABX9TyN0kG9VxS9EdNdtfnlVq4QJ",
      "include_colab_link": true
    },
    "kernelspec": {
      "name": "python3",
      "display_name": "Python 3"
    },
    "language_info": {
      "name": "python"
    }
  },
  "cells": [
    {
      "cell_type": "markdown",
      "metadata": {
        "id": "view-in-github",
        "colab_type": "text"
      },
      "source": [
        "<a href=\"https://colab.research.google.com/github/mathcute/Data-Science---Projects/blob/main/Regress%C3%A3o_Linear_Multipla.ipynb\" target=\"_parent\"><img src=\"https://colab.research.google.com/assets/colab-badge.svg\" alt=\"Open In Colab\"/></a>"
      ]
    },
    {
      "cell_type": "code",
      "execution_count": null,
      "metadata": {
        "colab": {
          "base_uri": "https://localhost:8080/",
          "height": 424
        },
        "id": "xNbVfErkmd3S",
        "outputId": "6cb1afea-0a50-4cb0-bba7-1a858799a5d3"
      },
      "outputs": [
        {
          "output_type": "execute_result",
          "data": {
            "text/plain": [
              "           uf  espvida  fectot  mort1  razdep  e_anosestudo\n",
              "0    Rondonia    70.75    2.24   23.8   47.37          8.67\n",
              "1    Rondonia    73.36    1.91   19.2   46.68          9.18\n",
              "2    Rondonia    70.39    2.15   24.8   48.12         10.09\n",
              "3    Rondonia    74.27    1.90   14.3   43.79          9.74\n",
              "4    Rondonia    72.94    2.12   18.1   45.67         10.22\n",
              "..        ...      ...     ...    ...     ...           ...\n",
              "885     Piaui    69.57    2.67   29.2   59.93          7.94\n",
              "886     Piaui    67.49    1.86   36.2   55.92          9.14\n",
              "887     Piaui    66.10    2.45   41.5   55.68          8.50\n",
              "888     Piaui    66.10    1.89   41.5   43.73          7.63\n",
              "889     Piaui    67.49    2.18   36.2   55.07          9.38\n",
              "\n",
              "[890 rows x 6 columns]"
            ],
            "text/html": [
              "\n",
              "  <div id=\"df-1271cd54-dd83-4ebd-93b7-dbf6178fe6c4\" class=\"colab-df-container\">\n",
              "    <div>\n",
              "<style scoped>\n",
              "    .dataframe tbody tr th:only-of-type {\n",
              "        vertical-align: middle;\n",
              "    }\n",
              "\n",
              "    .dataframe tbody tr th {\n",
              "        vertical-align: top;\n",
              "    }\n",
              "\n",
              "    .dataframe thead th {\n",
              "        text-align: right;\n",
              "    }\n",
              "</style>\n",
              "<table border=\"1\" class=\"dataframe\">\n",
              "  <thead>\n",
              "    <tr style=\"text-align: right;\">\n",
              "      <th></th>\n",
              "      <th>uf</th>\n",
              "      <th>espvida</th>\n",
              "      <th>fectot</th>\n",
              "      <th>mort1</th>\n",
              "      <th>razdep</th>\n",
              "      <th>e_anosestudo</th>\n",
              "    </tr>\n",
              "  </thead>\n",
              "  <tbody>\n",
              "    <tr>\n",
              "      <th>0</th>\n",
              "      <td>Rondonia</td>\n",
              "      <td>70.75</td>\n",
              "      <td>2.24</td>\n",
              "      <td>23.8</td>\n",
              "      <td>47.37</td>\n",
              "      <td>8.67</td>\n",
              "    </tr>\n",
              "    <tr>\n",
              "      <th>1</th>\n",
              "      <td>Rondonia</td>\n",
              "      <td>73.36</td>\n",
              "      <td>1.91</td>\n",
              "      <td>19.2</td>\n",
              "      <td>46.68</td>\n",
              "      <td>9.18</td>\n",
              "    </tr>\n",
              "    <tr>\n",
              "      <th>2</th>\n",
              "      <td>Rondonia</td>\n",
              "      <td>70.39</td>\n",
              "      <td>2.15</td>\n",
              "      <td>24.8</td>\n",
              "      <td>48.12</td>\n",
              "      <td>10.09</td>\n",
              "    </tr>\n",
              "    <tr>\n",
              "      <th>3</th>\n",
              "      <td>Rondonia</td>\n",
              "      <td>74.27</td>\n",
              "      <td>1.90</td>\n",
              "      <td>14.3</td>\n",
              "      <td>43.79</td>\n",
              "      <td>9.74</td>\n",
              "    </tr>\n",
              "    <tr>\n",
              "      <th>4</th>\n",
              "      <td>Rondonia</td>\n",
              "      <td>72.94</td>\n",
              "      <td>2.12</td>\n",
              "      <td>18.1</td>\n",
              "      <td>45.67</td>\n",
              "      <td>10.22</td>\n",
              "    </tr>\n",
              "    <tr>\n",
              "      <th>...</th>\n",
              "      <td>...</td>\n",
              "      <td>...</td>\n",
              "      <td>...</td>\n",
              "      <td>...</td>\n",
              "      <td>...</td>\n",
              "      <td>...</td>\n",
              "    </tr>\n",
              "    <tr>\n",
              "      <th>885</th>\n",
              "      <td>Piaui</td>\n",
              "      <td>69.57</td>\n",
              "      <td>2.67</td>\n",
              "      <td>29.2</td>\n",
              "      <td>59.93</td>\n",
              "      <td>7.94</td>\n",
              "    </tr>\n",
              "    <tr>\n",
              "      <th>886</th>\n",
              "      <td>Piaui</td>\n",
              "      <td>67.49</td>\n",
              "      <td>1.86</td>\n",
              "      <td>36.2</td>\n",
              "      <td>55.92</td>\n",
              "      <td>9.14</td>\n",
              "    </tr>\n",
              "    <tr>\n",
              "      <th>887</th>\n",
              "      <td>Piaui</td>\n",
              "      <td>66.10</td>\n",
              "      <td>2.45</td>\n",
              "      <td>41.5</td>\n",
              "      <td>55.68</td>\n",
              "      <td>8.50</td>\n",
              "    </tr>\n",
              "    <tr>\n",
              "      <th>888</th>\n",
              "      <td>Piaui</td>\n",
              "      <td>66.10</td>\n",
              "      <td>1.89</td>\n",
              "      <td>41.5</td>\n",
              "      <td>43.73</td>\n",
              "      <td>7.63</td>\n",
              "    </tr>\n",
              "    <tr>\n",
              "      <th>889</th>\n",
              "      <td>Piaui</td>\n",
              "      <td>67.49</td>\n",
              "      <td>2.18</td>\n",
              "      <td>36.2</td>\n",
              "      <td>55.07</td>\n",
              "      <td>9.38</td>\n",
              "    </tr>\n",
              "  </tbody>\n",
              "</table>\n",
              "<p>890 rows × 6 columns</p>\n",
              "</div>\n",
              "    <div class=\"colab-df-buttons\">\n",
              "\n",
              "  <div class=\"colab-df-container\">\n",
              "    <button class=\"colab-df-convert\" onclick=\"convertToInteractive('df-1271cd54-dd83-4ebd-93b7-dbf6178fe6c4')\"\n",
              "            title=\"Convert this dataframe to an interactive table.\"\n",
              "            style=\"display:none;\">\n",
              "\n",
              "  <svg xmlns=\"http://www.w3.org/2000/svg\" height=\"24px\" viewBox=\"0 -960 960 960\">\n",
              "    <path d=\"M120-120v-720h720v720H120Zm60-500h600v-160H180v160Zm220 220h160v-160H400v160Zm0 220h160v-160H400v160ZM180-400h160v-160H180v160Zm440 0h160v-160H620v160ZM180-180h160v-160H180v160Zm440 0h160v-160H620v160Z\"/>\n",
              "  </svg>\n",
              "    </button>\n",
              "\n",
              "  <style>\n",
              "    .colab-df-container {\n",
              "      display:flex;\n",
              "      gap: 12px;\n",
              "    }\n",
              "\n",
              "    .colab-df-convert {\n",
              "      background-color: #E8F0FE;\n",
              "      border: none;\n",
              "      border-radius: 50%;\n",
              "      cursor: pointer;\n",
              "      display: none;\n",
              "      fill: #1967D2;\n",
              "      height: 32px;\n",
              "      padding: 0 0 0 0;\n",
              "      width: 32px;\n",
              "    }\n",
              "\n",
              "    .colab-df-convert:hover {\n",
              "      background-color: #E2EBFA;\n",
              "      box-shadow: 0px 1px 2px rgba(60, 64, 67, 0.3), 0px 1px 3px 1px rgba(60, 64, 67, 0.15);\n",
              "      fill: #174EA6;\n",
              "    }\n",
              "\n",
              "    .colab-df-buttons div {\n",
              "      margin-bottom: 4px;\n",
              "    }\n",
              "\n",
              "    [theme=dark] .colab-df-convert {\n",
              "      background-color: #3B4455;\n",
              "      fill: #D2E3FC;\n",
              "    }\n",
              "\n",
              "    [theme=dark] .colab-df-convert:hover {\n",
              "      background-color: #434B5C;\n",
              "      box-shadow: 0px 1px 3px 1px rgba(0, 0, 0, 0.15);\n",
              "      filter: drop-shadow(0px 1px 2px rgba(0, 0, 0, 0.3));\n",
              "      fill: #FFFFFF;\n",
              "    }\n",
              "  </style>\n",
              "\n",
              "    <script>\n",
              "      const buttonEl =\n",
              "        document.querySelector('#df-1271cd54-dd83-4ebd-93b7-dbf6178fe6c4 button.colab-df-convert');\n",
              "      buttonEl.style.display =\n",
              "        google.colab.kernel.accessAllowed ? 'block' : 'none';\n",
              "\n",
              "      async function convertToInteractive(key) {\n",
              "        const element = document.querySelector('#df-1271cd54-dd83-4ebd-93b7-dbf6178fe6c4');\n",
              "        const dataTable =\n",
              "          await google.colab.kernel.invokeFunction('convertToInteractive',\n",
              "                                                    [key], {});\n",
              "        if (!dataTable) return;\n",
              "\n",
              "        const docLinkHtml = 'Like what you see? Visit the ' +\n",
              "          '<a target=\"_blank\" href=https://colab.research.google.com/notebooks/data_table.ipynb>data table notebook</a>'\n",
              "          + ' to learn more about interactive tables.';\n",
              "        element.innerHTML = '';\n",
              "        dataTable['output_type'] = 'display_data';\n",
              "        await google.colab.output.renderOutput(dataTable, element);\n",
              "        const docLink = document.createElement('div');\n",
              "        docLink.innerHTML = docLinkHtml;\n",
              "        element.appendChild(docLink);\n",
              "      }\n",
              "    </script>\n",
              "  </div>\n",
              "\n",
              "\n",
              "<div id=\"df-22a3b10f-4e41-4da5-b487-8a46c2e0ddb9\">\n",
              "  <button class=\"colab-df-quickchart\" onclick=\"quickchart('df-22a3b10f-4e41-4da5-b487-8a46c2e0ddb9')\"\n",
              "            title=\"Suggest charts\"\n",
              "            style=\"display:none;\">\n",
              "\n",
              "<svg xmlns=\"http://www.w3.org/2000/svg\" height=\"24px\"viewBox=\"0 0 24 24\"\n",
              "     width=\"24px\">\n",
              "    <g>\n",
              "        <path d=\"M19 3H5c-1.1 0-2 .9-2 2v14c0 1.1.9 2 2 2h14c1.1 0 2-.9 2-2V5c0-1.1-.9-2-2-2zM9 17H7v-7h2v7zm4 0h-2V7h2v10zm4 0h-2v-4h2v4z\"/>\n",
              "    </g>\n",
              "</svg>\n",
              "  </button>\n",
              "\n",
              "<style>\n",
              "  .colab-df-quickchart {\n",
              "      --bg-color: #E8F0FE;\n",
              "      --fill-color: #1967D2;\n",
              "      --hover-bg-color: #E2EBFA;\n",
              "      --hover-fill-color: #174EA6;\n",
              "      --disabled-fill-color: #AAA;\n",
              "      --disabled-bg-color: #DDD;\n",
              "  }\n",
              "\n",
              "  [theme=dark] .colab-df-quickchart {\n",
              "      --bg-color: #3B4455;\n",
              "      --fill-color: #D2E3FC;\n",
              "      --hover-bg-color: #434B5C;\n",
              "      --hover-fill-color: #FFFFFF;\n",
              "      --disabled-bg-color: #3B4455;\n",
              "      --disabled-fill-color: #666;\n",
              "  }\n",
              "\n",
              "  .colab-df-quickchart {\n",
              "    background-color: var(--bg-color);\n",
              "    border: none;\n",
              "    border-radius: 50%;\n",
              "    cursor: pointer;\n",
              "    display: none;\n",
              "    fill: var(--fill-color);\n",
              "    height: 32px;\n",
              "    padding: 0;\n",
              "    width: 32px;\n",
              "  }\n",
              "\n",
              "  .colab-df-quickchart:hover {\n",
              "    background-color: var(--hover-bg-color);\n",
              "    box-shadow: 0 1px 2px rgba(60, 64, 67, 0.3), 0 1px 3px 1px rgba(60, 64, 67, 0.15);\n",
              "    fill: var(--button-hover-fill-color);\n",
              "  }\n",
              "\n",
              "  .colab-df-quickchart-complete:disabled,\n",
              "  .colab-df-quickchart-complete:disabled:hover {\n",
              "    background-color: var(--disabled-bg-color);\n",
              "    fill: var(--disabled-fill-color);\n",
              "    box-shadow: none;\n",
              "  }\n",
              "\n",
              "  .colab-df-spinner {\n",
              "    border: 2px solid var(--fill-color);\n",
              "    border-color: transparent;\n",
              "    border-bottom-color: var(--fill-color);\n",
              "    animation:\n",
              "      spin 1s steps(1) infinite;\n",
              "  }\n",
              "\n",
              "  @keyframes spin {\n",
              "    0% {\n",
              "      border-color: transparent;\n",
              "      border-bottom-color: var(--fill-color);\n",
              "      border-left-color: var(--fill-color);\n",
              "    }\n",
              "    20% {\n",
              "      border-color: transparent;\n",
              "      border-left-color: var(--fill-color);\n",
              "      border-top-color: var(--fill-color);\n",
              "    }\n",
              "    30% {\n",
              "      border-color: transparent;\n",
              "      border-left-color: var(--fill-color);\n",
              "      border-top-color: var(--fill-color);\n",
              "      border-right-color: var(--fill-color);\n",
              "    }\n",
              "    40% {\n",
              "      border-color: transparent;\n",
              "      border-right-color: var(--fill-color);\n",
              "      border-top-color: var(--fill-color);\n",
              "    }\n",
              "    60% {\n",
              "      border-color: transparent;\n",
              "      border-right-color: var(--fill-color);\n",
              "    }\n",
              "    80% {\n",
              "      border-color: transparent;\n",
              "      border-right-color: var(--fill-color);\n",
              "      border-bottom-color: var(--fill-color);\n",
              "    }\n",
              "    90% {\n",
              "      border-color: transparent;\n",
              "      border-bottom-color: var(--fill-color);\n",
              "    }\n",
              "  }\n",
              "</style>\n",
              "\n",
              "  <script>\n",
              "    async function quickchart(key) {\n",
              "      const quickchartButtonEl =\n",
              "        document.querySelector('#' + key + ' button');\n",
              "      quickchartButtonEl.disabled = true;  // To prevent multiple clicks.\n",
              "      quickchartButtonEl.classList.add('colab-df-spinner');\n",
              "      try {\n",
              "        const charts = await google.colab.kernel.invokeFunction(\n",
              "            'suggestCharts', [key], {});\n",
              "      } catch (error) {\n",
              "        console.error('Error during call to suggestCharts:', error);\n",
              "      }\n",
              "      quickchartButtonEl.classList.remove('colab-df-spinner');\n",
              "      quickchartButtonEl.classList.add('colab-df-quickchart-complete');\n",
              "    }\n",
              "    (() => {\n",
              "      let quickchartButtonEl =\n",
              "        document.querySelector('#df-22a3b10f-4e41-4da5-b487-8a46c2e0ddb9 button');\n",
              "      quickchartButtonEl.style.display =\n",
              "        google.colab.kernel.accessAllowed ? 'block' : 'none';\n",
              "    })();\n",
              "  </script>\n",
              "</div>\n",
              "\n",
              "  <div id=\"id_e48e3fc7-16ae-443e-9005-6723f999aa38\">\n",
              "    <style>\n",
              "      .colab-df-generate {\n",
              "        background-color: #E8F0FE;\n",
              "        border: none;\n",
              "        border-radius: 50%;\n",
              "        cursor: pointer;\n",
              "        display: none;\n",
              "        fill: #1967D2;\n",
              "        height: 32px;\n",
              "        padding: 0 0 0 0;\n",
              "        width: 32px;\n",
              "      }\n",
              "\n",
              "      .colab-df-generate:hover {\n",
              "        background-color: #E2EBFA;\n",
              "        box-shadow: 0px 1px 2px rgba(60, 64, 67, 0.3), 0px 1px 3px 1px rgba(60, 64, 67, 0.15);\n",
              "        fill: #174EA6;\n",
              "      }\n",
              "\n",
              "      [theme=dark] .colab-df-generate {\n",
              "        background-color: #3B4455;\n",
              "        fill: #D2E3FC;\n",
              "      }\n",
              "\n",
              "      [theme=dark] .colab-df-generate:hover {\n",
              "        background-color: #434B5C;\n",
              "        box-shadow: 0px 1px 3px 1px rgba(0, 0, 0, 0.15);\n",
              "        filter: drop-shadow(0px 1px 2px rgba(0, 0, 0, 0.3));\n",
              "        fill: #FFFFFF;\n",
              "      }\n",
              "    </style>\n",
              "    <button class=\"colab-df-generate\" onclick=\"generateWithVariable('df')\"\n",
              "            title=\"Generate code using this dataframe.\"\n",
              "            style=\"display:none;\">\n",
              "\n",
              "  <svg xmlns=\"http://www.w3.org/2000/svg\" height=\"24px\"viewBox=\"0 0 24 24\"\n",
              "       width=\"24px\">\n",
              "    <path d=\"M7,19H8.4L18.45,9,17,7.55,7,17.6ZM5,21V16.75L18.45,3.32a2,2,0,0,1,2.83,0l1.4,1.43a1.91,1.91,0,0,1,.58,1.4,1.91,1.91,0,0,1-.58,1.4L9.25,21ZM18.45,9,17,7.55Zm-12,3A5.31,5.31,0,0,0,4.9,8.1,5.31,5.31,0,0,0,1,6.5,5.31,5.31,0,0,0,4.9,4.9,5.31,5.31,0,0,0,6.5,1,5.31,5.31,0,0,0,8.1,4.9,5.31,5.31,0,0,0,12,6.5,5.46,5.46,0,0,0,6.5,12Z\"/>\n",
              "  </svg>\n",
              "    </button>\n",
              "    <script>\n",
              "      (() => {\n",
              "      const buttonEl =\n",
              "        document.querySelector('#id_e48e3fc7-16ae-443e-9005-6723f999aa38 button.colab-df-generate');\n",
              "      buttonEl.style.display =\n",
              "        google.colab.kernel.accessAllowed ? 'block' : 'none';\n",
              "\n",
              "      buttonEl.onclick = () => {\n",
              "        google.colab.notebook.generateWithVariable('df');\n",
              "      }\n",
              "      })();\n",
              "    </script>\n",
              "  </div>\n",
              "\n",
              "    </div>\n",
              "  </div>\n"
            ],
            "application/vnd.google.colaboratory.intrinsic+json": {
              "type": "dataframe",
              "variable_name": "df",
              "summary": "{\n  \"name\": \"df\",\n  \"rows\": 890,\n  \"fields\": [\n    {\n      \"column\": \"uf\",\n      \"properties\": {\n        \"dtype\": \"category\",\n        \"num_unique_values\": 9,\n        \"samples\": [\n          \"Maranhao\",\n          \"Acre\",\n          \"Amapa\"\n        ],\n        \"semantic_type\": \"\",\n        \"description\": \"\"\n      }\n    },\n    {\n      \"column\": \"espvida\",\n      \"properties\": {\n        \"dtype\": \"number\",\n        \"std\": 2.0127731348615696,\n        \"min\": 65.64,\n        \"max\": 75.81,\n        \"num_unique_values\": 490,\n        \"samples\": [\n          70.2,\n          68.63,\n          68.23\n        ],\n        \"semantic_type\": \"\",\n        \"description\": \"\"\n      }\n    },\n    {\n      \"column\": \"fectot\",\n      \"properties\": {\n        \"dtype\": \"number\",\n        \"std\": 0.5816485723707038,\n        \"min\": 1.42,\n        \"max\": 4.89,\n        \"num_unique_values\": 237,\n        \"samples\": [\n          1.7,\n          2.18,\n          3.58\n        ],\n        \"semantic_type\": \"\",\n        \"description\": \"\"\n      }\n    },\n    {\n      \"column\": \"mort1\",\n      \"properties\": {\n        \"dtype\": \"number\",\n        \"std\": 6.653428582241652,\n        \"min\": 12.4,\n        \"max\": 45.3,\n        \"num_unique_values\": 288,\n        \"samples\": [\n          24.4,\n          17.1,\n          29.1\n        ],\n        \"semantic_type\": \"\",\n        \"description\": \"\"\n      }\n    },\n    {\n      \"column\": \"razdep\",\n      \"properties\": {\n        \"dtype\": \"number\",\n        \"std\": 10.128412175234622,\n        \"min\": 40.67,\n        \"max\": 118.04,\n        \"num_unique_values\": 782,\n        \"samples\": [\n          64.63,\n          66.69,\n          79.01\n        ],\n        \"semantic_type\": \"\",\n        \"description\": \"\"\n      }\n    },\n    {\n      \"column\": \"e_anosestudo\",\n      \"properties\": {\n        \"dtype\": \"number\",\n        \"std\": 1.0974082765743403,\n        \"min\": 4.34,\n        \"max\": 11.53,\n        \"num_unique_values\": 365,\n        \"samples\": [\n          7.64,\n          9.0,\n          9.08\n        ],\n        \"semantic_type\": \"\",\n        \"description\": \"\"\n      }\n    }\n  ]\n}"
            }
          },
          "metadata": {},
          "execution_count": 5
        }
      ],
      "source": [
        "import pandas as pd\n",
        "from random import *\n",
        "import numpy as np\n",
        "import matplotlib.pyplot as plt\n",
        "import statsmodels.formula.api as sm\n",
        "\n",
        "df = pd.read_csv('/content/atlas2010_recorte.csv', decimal = '.')\n",
        "df"
      ]
    },
    {
      "cell_type": "markdown",
      "source": [
        "##Exibindo todas colunas"
      ],
      "metadata": {
        "id": "CJdYnWlHoSQJ"
      }
    },
    {
      "cell_type": "code",
      "source": [
        "pd.set_option('display.max_columns', None)\n",
        "print(df.columns.tolist())"
      ],
      "metadata": {
        "colab": {
          "base_uri": "https://localhost:8080/"
        },
        "id": "z7-BknY1oHo5",
        "outputId": "886ab57d-5e2c-490a-cae6-fbc13022a944"
      },
      "execution_count": null,
      "outputs": [
        {
          "output_type": "stream",
          "name": "stdout",
          "text": [
            "['uf', 'espvida', 'fectot', 'mort1', 'razdep', 'e_anosestudo']\n"
          ]
        }
      ]
    },
    {
      "cell_type": "markdown",
      "source": [
        "##Modelo inicial de Regressao Linear"
      ],
      "metadata": {
        "id": "Ep1I9C_loqAQ"
      }
    },
    {
      "cell_type": "code",
      "source": [
        "model = sm.ols(formula = 'espvida ~ mort1 + fectot', data = df).fit()\n",
        "\n",
        "print(model.summary())"
      ],
      "metadata": {
        "colab": {
          "base_uri": "https://localhost:8080/"
        },
        "id": "uZGHonKWou8r",
        "outputId": "d159f4ab-94d0-4395-b823-10dba8a255ae"
      },
      "execution_count": null,
      "outputs": [
        {
          "output_type": "stream",
          "name": "stdout",
          "text": [
            "                            OLS Regression Results                            \n",
            "==============================================================================\n",
            "Dep. Variable:                espvida   R-squared:                       0.967\n",
            "Model:                            OLS   Adj. R-squared:                  0.966\n",
            "Method:                 Least Squares   F-statistic:                 1.281e+04\n",
            "Date:                Tue, 27 Feb 2024   Prob (F-statistic):               0.00\n",
            "Time:                        19:13:47   Log-Likelihood:                -373.23\n",
            "No. Observations:                 890   AIC:                             752.5\n",
            "Df Residuals:                     887   BIC:                             766.8\n",
            "Df Model:                           2                                         \n",
            "Covariance Type:            nonrobust                                         \n",
            "==============================================================================\n",
            "                 coef    std err          t      P>|t|      [0.025      0.975]\n",
            "------------------------------------------------------------------------------\n",
            "Intercept     78.9067      0.074   1071.366      0.000      78.762      79.051\n",
            "mort1         -0.2951      0.002   -157.963      0.000      -0.299      -0.291\n",
            "fectot        -0.2014      0.021     -9.422      0.000      -0.243      -0.159\n",
            "==============================================================================\n",
            "Omnibus:                        4.646   Durbin-Watson:                   1.000\n",
            "Prob(Omnibus):                  0.098   Jarque-Bera (JB):                4.394\n",
            "Skew:                           0.127   Prob(JB):                        0.111\n",
            "Kurtosis:                       2.769   Cond. No.                         163.\n",
            "==============================================================================\n",
            "\n",
            "Notes:\n",
            "[1] Standard Errors assume that the covariance matrix of the errors is correctly specified.\n"
          ]
        }
      ]
    },
    {
      "cell_type": "markdown",
      "source": [
        "##Teste de Durbin-Watson"
      ],
      "metadata": {
        "id": "EmNHsrqdqT6H"
      }
    },
    {
      "cell_type": "code",
      "source": [
        "from statsmodels.stats.stattools import durbin_watson\n",
        "\n",
        "durbin_watson(model.resid)"
      ],
      "metadata": {
        "colab": {
          "base_uri": "https://localhost:8080/"
        },
        "id": "iMvAKX1-qX9Q",
        "outputId": "2840d57a-b4b0-4f4d-d94d-2897a59be28e"
      },
      "execution_count": null,
      "outputs": [
        {
          "output_type": "execute_result",
          "data": {
            "text/plain": [
              "0.9998354492034647"
            ]
          },
          "metadata": {},
          "execution_count": 7
        }
      ]
    },
    {
      "cell_type": "code",
      "source": [
        "residuals = model.resid\n",
        "residuo = 0\n",
        "\n",
        "for i in range(len(residuals)):\n",
        "\n",
        "  novo_residuo = residuals[i] * residuals[i]\n",
        "  residuo_total = residuo + novo_residuo\n",
        "\n",
        "residuo_total"
      ],
      "metadata": {
        "colab": {
          "base_uri": "https://localhost:8080/"
        },
        "id": "hjnhZUo3q0XE",
        "outputId": "317b2a66-8507-4b4a-b034-afe96014fbca"
      },
      "execution_count": null,
      "outputs": [
        {
          "output_type": "execute_result",
          "data": {
            "text/plain": [
              "0.08716773548833878"
            ]
          },
          "metadata": {},
          "execution_count": 8
        }
      ]
    },
    {
      "cell_type": "markdown",
      "source": [
        "##Teste de Breusch-Godfrey"
      ],
      "metadata": {
        "id": "mxXHPT9brV8y"
      }
    },
    {
      "cell_type": "markdown",
      "source": [
        "*O teste de Breusch-Godfrey é um teste\n",
        "estatístico usado para verificar se os resíduos de uma regressão são\n",
        "independentes entre si.\n",
        "○ Se o p-valor for menor que o nível de significância que você\n",
        "escolheu (geralmente 0,05 ou 0,01), você pode rejeitar a hipótese de\n",
        "independência dos resíduos e concluir que há correlação serial nos\n",
        "resíduos*"
      ],
      "metadata": {
        "id": "AeRzI26Lro0P"
      }
    },
    {
      "cell_type": "code",
      "source": [
        "from statsmodels.stats.diagnostic import het_breuschpagan\n",
        "\n",
        "bp_test = het_breuschpagan(model.resid, model.model.exog)\n",
        "bp_test_statistic = bp_test[0]\n",
        "bp_test_pvalue = bp_test[1]"
      ],
      "metadata": {
        "id": "_hm2ZFxMraLY"
      },
      "execution_count": null,
      "outputs": []
    },
    {
      "cell_type": "code",
      "source": [
        "# statistic\n",
        "\n",
        "bp_test_statistic"
      ],
      "metadata": {
        "colab": {
          "base_uri": "https://localhost:8080/"
        },
        "id": "pUNSaOFesMcc",
        "outputId": "6c0d05ef-2b95-4d61-b27a-8a79c78ae326"
      },
      "execution_count": null,
      "outputs": [
        {
          "output_type": "execute_result",
          "data": {
            "text/plain": [
              "16.47364087438431"
            ]
          },
          "metadata": {},
          "execution_count": 10
        }
      ]
    },
    {
      "cell_type": "code",
      "source": [
        "#p value\n",
        "\n",
        "bp_test_pvalue"
      ],
      "metadata": {
        "colab": {
          "base_uri": "https://localhost:8080/"
        },
        "id": "PS-x3wNQsQ5y",
        "outputId": "1a4b3b12-b6af-45f1-fd68-4b52e8adaa78"
      },
      "execution_count": null,
      "outputs": [
        {
          "output_type": "execute_result",
          "data": {
            "text/plain": [
              "0.0002647246212994051"
            ]
          },
          "metadata": {},
          "execution_count": 11
        }
      ]
    },
    {
      "cell_type": "markdown",
      "source": [
        "##**Modelo de Regressão com Efeitos Aleatórios**"
      ],
      "metadata": {
        "id": "56ViOxfRssql"
      }
    },
    {
      "cell_type": "markdown",
      "source": [
        "*Esse modelo visa trabalhar o problema da autocorrelação entre observações. Para isso, você considera que os dados estão agrupados de alguma forma.*"
      ],
      "metadata": {
        "id": "9JpILS89s3FN"
      }
    },
    {
      "cell_type": "code",
      "source": [
        "grupos = df['uf']\n",
        "grupos"
      ],
      "metadata": {
        "colab": {
          "base_uri": "https://localhost:8080/"
        },
        "id": "JZ2ypCD3s17e",
        "outputId": "1d27fe65-c559-45d4-9585-3489ef3cfe0c"
      },
      "execution_count": null,
      "outputs": [
        {
          "output_type": "execute_result",
          "data": {
            "text/plain": [
              "0      Rondonia\n",
              "1      Rondonia\n",
              "2      Rondonia\n",
              "3      Rondonia\n",
              "4      Rondonia\n",
              "         ...   \n",
              "885       Piaui\n",
              "886       Piaui\n",
              "887       Piaui\n",
              "888       Piaui\n",
              "889       Piaui\n",
              "Name: uf, Length: 890, dtype: object"
            ]
          },
          "metadata": {},
          "execution_count": 12
        }
      ]
    },
    {
      "cell_type": "code",
      "source": [
        "from statsmodels.formula.api import mixedlm\n",
        "\n",
        "mixed_model = mixedlm(formula = 'espvida ~ mort1 + fectot', groups = grupos, data = df)\n",
        "result = mixed_model.fit()\n",
        "\n",
        "print(result.summary())"
      ],
      "metadata": {
        "colab": {
          "base_uri": "https://localhost:8080/"
        },
        "id": "OSX4tyWGtEQE",
        "outputId": "ff777baf-9d69-4db1-855c-0cce87be4c70"
      },
      "execution_count": null,
      "outputs": [
        {
          "output_type": "stream",
          "name": "stdout",
          "text": [
            "        Mixed Linear Model Regression Results\n",
            "======================================================\n",
            "Model:            MixedLM Dependent Variable: espvida \n",
            "No. Observations: 890     Method:             REML    \n",
            "No. Groups:       9       Scale:              0.0433  \n",
            "Min. group size:  15      Log-Likelihood:     100.7650\n",
            "Max. group size:  224     Converged:          Yes     \n",
            "Mean group size:  98.9                                \n",
            "------------------------------------------------------\n",
            "          Coef.  Std.Err.    z     P>|z| [0.025 0.975]\n",
            "------------------------------------------------------\n",
            "Intercept 79.156    0.148  533.166 0.000 78.865 79.447\n",
            "mort1     -0.329    0.001 -219.491 0.000 -0.332 -0.326\n",
            "fectot    -0.059    0.017   -3.497 0.000 -0.092 -0.026\n",
            "Group Var  0.174    0.423                             \n",
            "======================================================\n",
            "\n"
          ]
        }
      ]
    },
    {
      "cell_type": "code",
      "source": [
        "residual = result.resid\n",
        "residuo = 0\n",
        "\n",
        "for i in range(len(residual)):\n",
        "\n",
        "  novo_residuo = residual[i] * residual[i]\n",
        "  residuo_total_nm = residuo + novo_residuo\n",
        "\n",
        "residuo_total_nm"
      ],
      "metadata": {
        "colab": {
          "base_uri": "https://localhost:8080/"
        },
        "id": "G846QNVwt5g-",
        "outputId": "8cefa5c9-b1e6-466a-9edd-1d8f56ae3ef2"
      },
      "execution_count": null,
      "outputs": [
        {
          "output_type": "execute_result",
          "data": {
            "text/plain": [
              "0.017058247946889333"
            ]
          },
          "metadata": {},
          "execution_count": 14
        }
      ]
    },
    {
      "cell_type": "markdown",
      "source": [
        "# *Análise da normalidade dos resíduos*"
      ],
      "metadata": {
        "id": "lSgT6ZlxuYlG"
      }
    },
    {
      "cell_type": "code",
      "source": [
        "from scipy import stats\n",
        "import matplotlib.pyplot as plt\n",
        "\n",
        "stats.probplot(residuals, dist = 'norm', plot = plt)\n",
        "\n",
        "plt.show()"
      ],
      "metadata": {
        "colab": {
          "base_uri": "https://localhost:8080/",
          "height": 472
        },
        "id": "GxO2PAQqueSP",
        "outputId": "7aa2c364-239e-4b1c-9d20-afe3194dbd50"
      },
      "execution_count": null,
      "outputs": [
        {
          "output_type": "display_data",
          "data": {
            "text/plain": [
              "<Figure size 640x480 with 1 Axes>"
            ],
            "image/png": "[encoded data removed]"
          },
          "metadata": {}
        }
      ]
    },
    {
      "cell_type": "markdown",
      "source": [
        "*Para interpretar visualmente um gráfico Q-Q plot de normalidade dos resíduos, você deve olhar para a linha de tendência no gráfico. Se os resíduos seguirem aproximadamente uma distribuição normal, os pontos no gráfico devem seguir uma linha reta. Se os pontos estiverem muito distante da linha reta, isso pode indicar que a distribuição dos resíduos é diferente da distribuição normal.*"
      ],
      "metadata": {
        "id": "gI9SnwyLvC00"
      }
    },
    {
      "cell_type": "code",
      "source": [
        "#histograma\n",
        "\n",
        "import matplotlib.pyplot as plt\n",
        "\n",
        "plt.hist(residuals, bins = 100)\n",
        "\n",
        "plt.show()"
      ],
      "metadata": {
        "colab": {
          "base_uri": "https://localhost:8080/",
          "height": 430
        },
        "id": "GM3WGDqdvIxu",
        "outputId": "34c36ebc-cac5-455e-cecc-ad915779400c"
      },
      "execution_count": null,
      "outputs": [
        {
          "output_type": "display_data",
          "data": {
            "text/plain": [
              "<Figure size 640x480 with 1 Axes>"
            ],
            "image/png": "[encoded data removed]"
          },
          "metadata": {}
        }
      ]
    },
    {
      "cell_type": "code",
      "source": [
        "entrada = df[['mort1', 'fectot']]\n",
        "entrada"
      ],
      "metadata": {
        "colab": {
          "base_uri": "https://localhost:8080/",
          "height": 424
        },
        "id": "hlBPY51G_jYM",
        "outputId": "d9aed3ce-bee2-468f-8d3d-9d187f8b825e"
      },
      "execution_count": null,
      "outputs": [
        {
          "output_type": "execute_result",
          "data": {
            "text/plain": [
              "     mort1  fectot\n",
              "0     23.8    2.24\n",
              "1     19.2    1.91\n",
              "2     24.8    2.15\n",
              "3     14.3    1.90\n",
              "4     18.1    2.12\n",
              "..     ...     ...\n",
              "885   29.2    2.67\n",
              "886   36.2    1.86\n",
              "887   41.5    2.45\n",
              "888   41.5    1.89\n",
              "889   36.2    2.18\n",
              "\n",
              "[890 rows x 2 columns]"
            ],
            "text/html": [
              "\n",
              "  <div id=\"df-62fdd6d8-068d-40e3-9446-1bf38b95b05f\" class=\"colab-df-container\">\n",
              "    <div>\n",
              "<style scoped>\n",
              "    .dataframe tbody tr th:only-of-type {\n",
              "        vertical-align: middle;\n",
              "    }\n",
              "\n",
              "    .dataframe tbody tr th {\n",
              "        vertical-align: top;\n",
              "    }\n",
              "\n",
              "    .dataframe thead th {\n",
              "        text-align: right;\n",
              "    }\n",
              "</style>\n",
              "<table border=\"1\" class=\"dataframe\">\n",
              "  <thead>\n",
              "    <tr style=\"text-align: right;\">\n",
              "      <th></th>\n",
              "      <th>mort1</th>\n",
              "      <th>fectot</th>\n",
              "    </tr>\n",
              "  </thead>\n",
              "  <tbody>\n",
              "    <tr>\n",
              "      <th>0</th>\n",
              "      <td>23.8</td>\n",
              "      <td>2.24</td>\n",
              "    </tr>\n",
              "    <tr>\n",
              "      <th>1</th>\n",
              "      <td>19.2</td>\n",
              "      <td>1.91</td>\n",
              "    </tr>\n",
              "    <tr>\n",
              "      <th>2</th>\n",
              "      <td>24.8</td>\n",
              "      <td>2.15</td>\n",
              "    </tr>\n",
              "    <tr>\n",
              "      <th>3</th>\n",
              "      <td>14.3</td>\n",
              "      <td>1.90</td>\n",
              "    </tr>\n",
              "    <tr>\n",
              "      <th>4</th>\n",
              "      <td>18.1</td>\n",
              "      <td>2.12</td>\n",
              "    </tr>\n",
              "    <tr>\n",
              "      <th>...</th>\n",
              "      <td>...</td>\n",
              "      <td>...</td>\n",
              "    </tr>\n",
              "    <tr>\n",
              "      <th>885</th>\n",
              "      <td>29.2</td>\n",
              "      <td>2.67</td>\n",
              "    </tr>\n",
              "    <tr>\n",
              "      <th>886</th>\n",
              "      <td>36.2</td>\n",
              "      <td>1.86</td>\n",
              "    </tr>\n",
              "    <tr>\n",
              "      <th>887</th>\n",
              "      <td>41.5</td>\n",
              "      <td>2.45</td>\n",
              "    </tr>\n",
              "    <tr>\n",
              "      <th>888</th>\n",
              "      <td>41.5</td>\n",
              "      <td>1.89</td>\n",
              "    </tr>\n",
              "    <tr>\n",
              "      <th>889</th>\n",
              "      <td>36.2</td>\n",
              "      <td>2.18</td>\n",
              "    </tr>\n",
              "  </tbody>\n",
              "</table>\n",
              "<p>890 rows × 2 columns</p>\n",
              "</div>\n",
              "    <div class=\"colab-df-buttons\">\n",
              "\n",
              "  <div class=\"colab-df-container\">\n",
              "    <button class=\"colab-df-convert\" onclick=\"convertToInteractive('df-62fdd6d8-068d-40e3-9446-1bf38b95b05f')\"\n",
              "            title=\"Convert this dataframe to an interactive table.\"\n",
              "            style=\"display:none;\">\n",
              "\n",
              "  <svg xmlns=\"http://www.w3.org/2000/svg\" height=\"24px\" viewBox=\"0 -960 960 960\">\n",
              "    <path d=\"M120-120v-720h720v720H120Zm60-500h600v-160H180v160Zm220 220h160v-160H400v160Zm0 220h160v-160H400v160ZM180-400h160v-160H180v160Zm440 0h160v-160H620v160ZM180-180h160v-160H180v160Zm440 0h160v-160H620v160Z\"/>\n",
              "  </svg>\n",
              "    </button>\n",
              "\n",
              "  <style>\n",
              "    .colab-df-container {\n",
              "      display:flex;\n",
              "      gap: 12px;\n",
              "    }\n",
              "\n",
              "    .colab-df-convert {\n",
              "      background-color: #E8F0FE;\n",
              "      border: none;\n",
              "      border-radius: 50%;\n",
              "      cursor: pointer;\n",
              "      display: none;\n",
              "      fill: #1967D2;\n",
              "      height: 32px;\n",
              "      padding: 0 0 0 0;\n",
              "      width: 32px;\n",
              "    }\n",
              "\n",
              "    .colab-df-convert:hover {\n",
              "      background-color: #E2EBFA;\n",
              "      box-shadow: 0px 1px 2px rgba(60, 64, 67, 0.3), 0px 1px 3px 1px rgba(60, 64, 67, 0.15);\n",
              "      fill: #174EA6;\n",
              "    }\n",
              "\n",
              "    .colab-df-buttons div {\n",
              "      margin-bottom: 4px;\n",
              "    }\n",
              "\n",
              "    [theme=dark] .colab-df-convert {\n",
              "      background-color: #3B4455;\n",
              "      fill: #D2E3FC;\n",
              "    }\n",
              "\n",
              "    [theme=dark] .colab-df-convert:hover {\n",
              "      background-color: #434B5C;\n",
              "      box-shadow: 0px 1px 3px 1px rgba(0, 0, 0, 0.15);\n",
              "      filter: drop-shadow(0px 1px 2px rgba(0, 0, 0, 0.3));\n",
              "      fill: #FFFFFF;\n",
              "    }\n",
              "  </style>\n",
              "\n",
              "    <script>\n",
              "      const buttonEl =\n",
              "        document.querySelector('#df-62fdd6d8-068d-40e3-9446-1bf38b95b05f button.colab-df-convert');\n",
              "      buttonEl.style.display =\n",
              "        google.colab.kernel.accessAllowed ? 'block' : 'none';\n",
              "\n",
              "      async function convertToInteractive(key) {\n",
              "        const element = document.querySelector('#df-62fdd6d8-068d-40e3-9446-1bf38b95b05f');\n",
              "        const dataTable =\n",
              "          await google.colab.kernel.invokeFunction('convertToInteractive',\n",
              "                                                    [key], {});\n",
              "        if (!dataTable) return;\n",
              "\n",
              "        const docLinkHtml = 'Like what you see? Visit the ' +\n",
              "          '<a target=\"_blank\" href=https://colab.research.google.com/notebooks/data_table.ipynb>data table notebook</a>'\n",
              "          + ' to learn more about interactive tables.';\n",
              "        element.innerHTML = '';\n",
              "        dataTable['output_type'] = 'display_data';\n",
              "        await google.colab.output.renderOutput(dataTable, element);\n",
              "        const docLink = document.createElement('div');\n",
              "        docLink.innerHTML = docLinkHtml;\n",
              "        element.appendChild(docLink);\n",
              "      }\n",
              "    </script>\n",
              "  </div>\n",
              "\n",
              "\n",
              "<div id=\"df-b217220f-b9ea-4939-9b77-ad52268e1a9f\">\n",
              "  <button class=\"colab-df-quickchart\" onclick=\"quickchart('df-b217220f-b9ea-4939-9b77-ad52268e1a9f')\"\n",
              "            title=\"Suggest charts\"\n",
              "            style=\"display:none;\">\n",
              "\n",
              "<svg xmlns=\"http://www.w3.org/2000/svg\" height=\"24px\"viewBox=\"0 0 24 24\"\n",
              "     width=\"24px\">\n",
              "    <g>\n",
              "        <path d=\"M19 3H5c-1.1 0-2 .9-2 2v14c0 1.1.9 2 2 2h14c1.1 0 2-.9 2-2V5c0-1.1-.9-2-2-2zM9 17H7v-7h2v7zm4 0h-2V7h2v10zm4 0h-2v-4h2v4z\"/>\n",
              "    </g>\n",
              "</svg>\n",
              "  </button>\n",
              "\n",
              "<style>\n",
              "  .colab-df-quickchart {\n",
              "      --bg-color: #E8F0FE;\n",
              "      --fill-color: #1967D2;\n",
              "      --hover-bg-color: #E2EBFA;\n",
              "      --hover-fill-color: #174EA6;\n",
              "      --disabled-fill-color: #AAA;\n",
              "      --disabled-bg-color: #DDD;\n",
              "  }\n",
              "\n",
              "  [theme=dark] .colab-df-quickchart {\n",
              "      --bg-color: #3B4455;\n",
              "      --fill-color: #D2E3FC;\n",
              "      --hover-bg-color: #434B5C;\n",
              "      --hover-fill-color: #FFFFFF;\n",
              "      --disabled-bg-color: #3B4455;\n",
              "      --disabled-fill-color: #666;\n",
              "  }\n",
              "\n",
              "  .colab-df-quickchart {\n",
              "    background-color: var(--bg-color);\n",
              "    border: none;\n",
              "    border-radius: 50%;\n",
              "    cursor: pointer;\n",
              "    display: none;\n",
              "    fill: var(--fill-color);\n",
              "    height: 32px;\n",
              "    padding: 0;\n",
              "    width: 32px;\n",
              "  }\n",
              "\n",
              "  .colab-df-quickchart:hover {\n",
              "    background-color: var(--hover-bg-color);\n",
              "    box-shadow: 0 1px 2px rgba(60, 64, 67, 0.3), 0 1px 3px 1px rgba(60, 64, 67, 0.15);\n",
              "    fill: var(--button-hover-fill-color);\n",
              "  }\n",
              "\n",
              "  .colab-df-quickchart-complete:disabled,\n",
              "  .colab-df-quickchart-complete:disabled:hover {\n",
              "    background-color: var(--disabled-bg-color);\n",
              "    fill: var(--disabled-fill-color);\n",
              "    box-shadow: none;\n",
              "  }\n",
              "\n",
              "  .colab-df-spinner {\n",
              "    border: 2px solid var(--fill-color);\n",
              "    border-color: transparent;\n",
              "    border-bottom-color: var(--fill-color);\n",
              "    animation:\n",
              "      spin 1s steps(1) infinite;\n",
              "  }\n",
              "\n",
              "  @keyframes spin {\n",
              "    0% {\n",
              "      border-color: transparent;\n",
              "      border-bottom-color: var(--fill-color);\n",
              "      border-left-color: var(--fill-color);\n",
              "    }\n",
              "    20% {\n",
              "      border-color: transparent;\n",
              "      border-left-color: var(--fill-color);\n",
              "      border-top-color: var(--fill-color);\n",
              "    }\n",
              "    30% {\n",
              "      border-color: transparent;\n",
              "      border-left-color: var(--fill-color);\n",
              "      border-top-color: var(--fill-color);\n",
              "      border-right-color: var(--fill-color);\n",
              "    }\n",
              "    40% {\n",
              "      border-color: transparent;\n",
              "      border-right-color: var(--fill-color);\n",
              "      border-top-color: var(--fill-color);\n",
              "    }\n",
              "    60% {\n",
              "      border-color: transparent;\n",
              "      border-right-color: var(--fill-color);\n",
              "    }\n",
              "    80% {\n",
              "      border-color: transparent;\n",
              "      border-right-color: var(--fill-color);\n",
              "      border-bottom-color: var(--fill-color);\n",
              "    }\n",
              "    90% {\n",
              "      border-color: transparent;\n",
              "      border-bottom-color: var(--fill-color);\n",
              "    }\n",
              "  }\n",
              "</style>\n",
              "\n",
              "  <script>\n",
              "    async function quickchart(key) {\n",
              "      const quickchartButtonEl =\n",
              "        document.querySelector('#' + key + ' button');\n",
              "      quickchartButtonEl.disabled = true;  // To prevent multiple clicks.\n",
              "      quickchartButtonEl.classList.add('colab-df-spinner');\n",
              "      try {\n",
              "        const charts = await google.colab.kernel.invokeFunction(\n",
              "            'suggestCharts', [key], {});\n",
              "      } catch (error) {\n",
              "        console.error('Error during call to suggestCharts:', error);\n",
              "      }\n",
              "      quickchartButtonEl.classList.remove('colab-df-spinner');\n",
              "      quickchartButtonEl.classList.add('colab-df-quickchart-complete');\n",
              "    }\n",
              "    (() => {\n",
              "      let quickchartButtonEl =\n",
              "        document.querySelector('#df-b217220f-b9ea-4939-9b77-ad52268e1a9f button');\n",
              "      quickchartButtonEl.style.display =\n",
              "        google.colab.kernel.accessAllowed ? 'block' : 'none';\n",
              "    })();\n",
              "  </script>\n",
              "</div>\n",
              "\n",
              "  <div id=\"id_9e621ce1-6bf2-463a-a8bf-73ba8a5f0c8b\">\n",
              "    <style>\n",
              "      .colab-df-generate {\n",
              "        background-color: #E8F0FE;\n",
              "        border: none;\n",
              "        border-radius: 50%;\n",
              "        cursor: pointer;\n",
              "        display: none;\n",
              "        fill: #1967D2;\n",
              "        height: 32px;\n",
              "        padding: 0 0 0 0;\n",
              "        width: 32px;\n",
              "      }\n",
              "\n",
              "      .colab-df-generate:hover {\n",
              "        background-color: #E2EBFA;\n",
              "        box-shadow: 0px 1px 2px rgba(60, 64, 67, 0.3), 0px 1px 3px 1px rgba(60, 64, 67, 0.15);\n",
              "        fill: #174EA6;\n",
              "      }\n",
              "\n",
              "      [theme=dark] .colab-df-generate {\n",
              "        background-color: #3B4455;\n",
              "        fill: #D2E3FC;\n",
              "      }\n",
              "\n",
              "      [theme=dark] .colab-df-generate:hover {\n",
              "        background-color: #434B5C;\n",
              "        box-shadow: 0px 1px 3px 1px rgba(0, 0, 0, 0.15);\n",
              "        filter: drop-shadow(0px 1px 2px rgba(0, 0, 0, 0.3));\n",
              "        fill: #FFFFFF;\n",
              "      }\n",
              "    </style>\n",
              "    <button class=\"colab-df-generate\" onclick=\"generateWithVariable('entrada')\"\n",
              "            title=\"Generate code using this dataframe.\"\n",
              "            style=\"display:none;\">\n",
              "\n",
              "  <svg xmlns=\"http://www.w3.org/2000/svg\" height=\"24px\"viewBox=\"0 0 24 24\"\n",
              "       width=\"24px\">\n",
              "    <path d=\"M7,19H8.4L18.45,9,17,7.55,7,17.6ZM5,21V16.75L18.45,3.32a2,2,0,0,1,2.83,0l1.4,1.43a1.91,1.91,0,0,1,.58,1.4,1.91,1.91,0,0,1-.58,1.4L9.25,21ZM18.45,9,17,7.55Zm-12,3A5.31,5.31,0,0,0,4.9,8.1,5.31,5.31,0,0,0,1,6.5,5.31,5.31,0,0,0,4.9,4.9,5.31,5.31,0,0,0,6.5,1,5.31,5.31,0,0,0,8.1,4.9,5.31,5.31,0,0,0,12,6.5,5.46,5.46,0,0,0,6.5,12Z\"/>\n",
              "  </svg>\n",
              "    </button>\n",
              "    <script>\n",
              "      (() => {\n",
              "      const buttonEl =\n",
              "        document.querySelector('#id_9e621ce1-6bf2-463a-a8bf-73ba8a5f0c8b button.colab-df-generate');\n",
              "      buttonEl.style.display =\n",
              "        google.colab.kernel.accessAllowed ? 'block' : 'none';\n",
              "\n",
              "      buttonEl.onclick = () => {\n",
              "        google.colab.notebook.generateWithVariable('entrada');\n",
              "      }\n",
              "      })();\n",
              "    </script>\n",
              "  </div>\n",
              "\n",
              "    </div>\n",
              "  </div>\n"
            ],
            "application/vnd.google.colaboratory.intrinsic+json": {
              "type": "dataframe",
              "variable_name": "entrada",
              "summary": "{\n  \"name\": \"entrada\",\n  \"rows\": 890,\n  \"fields\": [\n    {\n      \"column\": \"mort1\",\n      \"properties\": {\n        \"dtype\": \"number\",\n        \"std\": 6.653428582241652,\n        \"min\": 12.4,\n        \"max\": 45.3,\n        \"num_unique_values\": 288,\n        \"samples\": [\n          24.4,\n          17.1,\n          29.1\n        ],\n        \"semantic_type\": \"\",\n        \"description\": \"\"\n      }\n    },\n    {\n      \"column\": \"fectot\",\n      \"properties\": {\n        \"dtype\": \"number\",\n        \"std\": 0.5816485723707038,\n        \"min\": 1.42,\n        \"max\": 4.89,\n        \"num_unique_values\": 237,\n        \"samples\": [\n          1.7,\n          2.18,\n          3.58\n        ],\n        \"semantic_type\": \"\",\n        \"description\": \"\"\n      }\n    }\n  ]\n}"
            }
          },
          "metadata": {},
          "execution_count": 18
        }
      ]
    },
    {
      "cell_type": "markdown",
      "source": [
        "##Suponha que você tenha os resíduos da regressão em um array chamado residuals e os valores previstos pelo modelo em um array chamado predicted"
      ],
      "metadata": {
        "id": "PqYRyh75_0Dl"
      }
    },
    {
      "cell_type": "code",
      "source": [
        "import matplotlib.pyplot as plt\n",
        "\n",
        "predicted = model.predict(entrada)\n",
        "\n",
        "plt.scatter(predicted, residuals)\n",
        "\n",
        "plt.title('Gráfico de resíduos versus filtred')\n",
        "plt.xlabel('Valores previstos')\n",
        "plt.ylabel('Resíduos')\n",
        "\n",
        "plt.show()"
      ],
      "metadata": {
        "colab": {
          "base_uri": "https://localhost:8080/",
          "height": 472
        },
        "id": "_HfHT_SP_yFZ",
        "outputId": "1d9cf2cd-f645-470a-82d6-8d27bfa55ee3"
      },
      "execution_count": null,
      "outputs": [
        {
          "output_type": "display_data",
          "data": {
            "text/plain": [
              "<Figure size 640x480 with 1 Axes>"
            ],
            "image/png": "[encoded data removed]"
          },
          "metadata": {}
        }
      ]
    },
    {
      "cell_type": "markdown",
      "source": [
        "##**Teste de Shapiro-Wilk**"
      ],
      "metadata": {
        "id": "U_7YZWLoAyqt"
      }
    },
    {
      "cell_type": "code",
      "source": [
        "from scipy.stats import shapiro\n",
        "\n",
        "statistic, p_value = shapiro(residuals)\n",
        "\n",
        "alpha = 0.05\n",
        "\n",
        "#verificar se o p-value é menor que o nivel de significancia (alpha)\n",
        "\n",
        "if(p_value > alpha):\n",
        "\n",
        "  print('Não podemos rejeitar a hipótese nula de que os dados são normalmente distribuidos')\n",
        "\n",
        "else:\n",
        "\n",
        "  print('Rejeitamos a hipótese nula de que os dados são normalmente distribuidos')\n"
      ],
      "metadata": {
        "colab": {
          "base_uri": "https://localhost:8080/"
        },
        "id": "2KC8lItiA6Sf",
        "outputId": "f40e780b-e791-4e99-fb2c-add5f773ee69"
      },
      "execution_count": null,
      "outputs": [
        {
          "output_type": "stream",
          "name": "stdout",
          "text": [
            "Rejeitamos a hipótese nula de que os dados são normalmente distribuidos\n"
          ]
        }
      ]
    },
    {
      "cell_type": "code",
      "source": [
        "p_value"
      ],
      "metadata": {
        "colab": {
          "base_uri": "https://localhost:8080/"
        },
        "id": "qcFMRDNUB3pG",
        "outputId": "68e983de-67f9-4be6-8f2e-265234becbf5"
      },
      "execution_count": null,
      "outputs": [
        {
          "output_type": "execute_result",
          "data": {
            "text/plain": [
              "1.9324756976857316e-06"
            ]
          },
          "metadata": {},
          "execution_count": 21
        }
      ]
    },
    {
      "cell_type": "markdown",
      "source": [
        "##**Teste de Anderson Darling**"
      ],
      "metadata": {
        "id": "QQ7i_wMzCCFu"
      }
    },
    {
      "cell_type": "markdown",
      "source": [
        "*Este teste visa verificar se os dados seguem uma distriuição específica. Ou a normal ou a t student, conforme especificado no teste. O teste é então aplicado aos dados e gera um p-valor, que indica a probabilidade de os dados terem sido gerados por essa distribuição. Se o p-valor for baixo (geralmente abaixo de 0,05), isso indica que os dados não são compatíveis com a distribuição teórica e, portanto, não seguem essa distribuição.*"
      ],
      "metadata": {
        "id": "C2V2gNnwCKY2"
      }
    },
    {
      "cell_type": "code",
      "source": [
        "#metodo para t student\n",
        "\n",
        "from scipy.stats import anderson_ksamp\n",
        "\n",
        "statistic, critical_values, p_value = anderson_ksamp([residuals, np.random.standard_t(df=len(residuals)-2, size=len(residuals))])\n",
        "print(p_value)"
      ],
      "metadata": {
        "colab": {
          "base_uri": "https://localhost:8080/"
        },
        "id": "1dW7L1jECJNN",
        "outputId": "03e1fba7-3c57-4d64-d0f2-5fe1e9729c13"
      },
      "execution_count": null,
      "outputs": [
        {
          "output_type": "stream",
          "name": "stdout",
          "text": [
            "0.001\n"
          ]
        },
        {
          "output_type": "stream",
          "name": "stderr",
          "text": [
            "<ipython-input-22-7d47173ca543>:5: UserWarning: p-value floored: true value smaller than 0.001\n",
            "  statistic, critical_values, p_value = anderson_ksamp([residuals, np.random.standard_t(df=len(residuals)-2, size=len(residuals))])\n"
          ]
        }
      ]
    },
    {
      "cell_type": "code",
      "source": [
        "#Para normal\n",
        "\n",
        "from scipy.stats import anderson_ksamp\n",
        "from numpy.random import normal\n",
        "\n",
        "statistic, critical_values, p_value = anderson_ksamp([residuals, normal(size = len(residuals))])\n",
        "\n",
        "print(p_value)\n"
      ],
      "metadata": {
        "colab": {
          "base_uri": "https://localhost:8080/"
        },
        "id": "AzgtuNNVCsTN",
        "outputId": "ef50d90e-7579-4dcb-a2e4-6e07266f1120"
      },
      "execution_count": null,
      "outputs": [
        {
          "output_type": "stream",
          "name": "stdout",
          "text": [
            "0.001\n"
          ]
        },
        {
          "output_type": "stream",
          "name": "stderr",
          "text": [
            "<ipython-input-23-5cb83cd3c677>:6: UserWarning: p-value floored: true value smaller than 0.001\n",
            "  statistic, critical_values, p_value = anderson_ksamp([residuals, normal(size = len(residuals))])\n"
          ]
        }
      ]
    },
    {
      "cell_type": "markdown",
      "source": [
        "##**Teste de aderência de Kolmogorov-Smirnov**\n",
        "\n",
        "*É um teste não paramétrico que verifica se um conjunto de dados segue uma determinada distribuição. Ele é baseado na comparação da função de distribuição acumulada dos dados com a função de distribuição acumulada da distribuição teórica que está sendo testada. Se as duas funções são muito diferentes, isso indica que os dados não seguem a distribuição teórica.*"
      ],
      "metadata": {
        "id": "trU5dFi6EdxJ"
      }
    },
    {
      "cell_type": "code",
      "source": [
        "#Testando se os resíduos seguem uma distiruição gama\n",
        "\n",
        "from scipy.stats import kstest\n",
        "from scipy.stats import gamma\n",
        "\n",
        "#Calculando os parâmetros da distribuição gama a partir de dados\n",
        "\n",
        "shape, _, scale = gamma.fit(residuals)\n",
        "\n",
        "#Realizando o teste de Kolmogorov-Smirnov para a distribuição gama\n",
        "\n",
        "statistic, p_value = kstest(residuals, 'gamma', args = (shape, 0, scale))\n",
        "\n",
        "print(p_value)"
      ],
      "metadata": {
        "colab": {
          "base_uri": "https://localhost:8080/"
        },
        "id": "MfGMxFbAEoAV",
        "outputId": "48d74364-1bcb-41be-e9cf-4661e2ad110a"
      },
      "execution_count": null,
      "outputs": [
        {
          "output_type": "stream",
          "name": "stdout",
          "text": [
            "0.0\n"
          ]
        }
      ]
    },
    {
      "cell_type": "markdown",
      "source": [
        "Se o p_value for maior que o nível de significância, isso indica que os dados são compatíveis com a distribuição testada (Kolmogorov-Smirnov)"
      ],
      "metadata": {
        "id": "IeS7NVwqFazU"
      }
    },
    {
      "cell_type": "markdown",
      "source": [
        "##**Resíduos seguem variância constante**\n",
        "\n",
        "#Teste de Goldfeld-Quandt"
      ],
      "metadata": {
        "id": "Bwx2Qp2AFuD5"
      }
    },
    {
      "cell_type": "code",
      "source": [
        "import statsmodels.api as sm1\n",
        "from statsmodels.regression.linear_model import OLS\n",
        "\n",
        "_, pval, _ = sm1.stats.diagnostic.het_goldfeldquandt(residuals, model.model.exog)\n",
        "\n",
        "print(pval)"
      ],
      "metadata": {
        "colab": {
          "base_uri": "https://localhost:8080/"
        },
        "id": "yKmB31yhF4Oh",
        "outputId": "440b1898-5ba5-48be-9469-e32c4e0ec065"
      },
      "execution_count": null,
      "outputs": [
        {
          "output_type": "stream",
          "name": "stdout",
          "text": [
            "0.9997223385845706\n"
          ]
        }
      ]
    },
    {
      "cell_type": "markdown",
      "source": [
        "*O valor p do teste de Goldfeld-Quandt é usado para avaliar a hipótese nula de que os resíduos de um modelo de regressão têm variância constante. Se o valor p for menor do que o nível de significância escolhido (geralmente 0,05 ou 0,01), isso significa que a hipótese nula é rejeitada e que é provável que os resíduos não tenham variância constante. Isso indica que pode ser necessário ajustar ou substituir o modelo de regressão para melhor ajustar os dados.*\n",
        "\n",
        "*Se o valor p for maior do que o nível de significância escolhido, isso significa que a hipótese nula de variância constante dos resíduos não é rejeitada. Isso sugere que os resíduos têm variância constante e que o modelo de regressão atual pode ser adequado para os dados.*"
      ],
      "metadata": {
        "id": "S0FnbO2YGc7K"
      }
    },
    {
      "cell_type": "markdown",
      "source": [
        "##**Verificando ausência de multicolinearidade**\n",
        "\n",
        "#Método 1 - Correlação entre variáveis independentes"
      ],
      "metadata": {
        "id": "TMks6j8lGm9a"
      }
    },
    {
      "cell_type": "code",
      "source": [
        "#Calculando a correlação\n",
        "\n",
        "from scipy.stats import spearmanr\n",
        "\n",
        "corr, pval = spearmanr(df['fectot'], df['mort1'])"
      ],
      "metadata": {
        "id": "UwUabhYRG1fI"
      },
      "execution_count": null,
      "outputs": []
    },
    {
      "cell_type": "code",
      "source": [
        "corr"
      ],
      "metadata": {
        "colab": {
          "base_uri": "https://localhost:8080/"
        },
        "id": "Ic7zuTt2HRCT",
        "outputId": "6434123a-7d0b-4dd5-9bdb-064415d53880"
      },
      "execution_count": null,
      "outputs": [
        {
          "output_type": "execute_result",
          "data": {
            "text/plain": [
              "0.11017263789182423"
            ]
          },
          "metadata": {},
          "execution_count": 29
        }
      ]
    },
    {
      "cell_type": "code",
      "source": [
        "pval"
      ],
      "metadata": {
        "colab": {
          "base_uri": "https://localhost:8080/"
        },
        "id": "Wa6_fGH_HXhQ",
        "outputId": "2ebe7896-6833-4b0f-e967-b300fb704d20"
      },
      "execution_count": null,
      "outputs": [
        {
          "output_type": "execute_result",
          "data": {
            "text/plain": [
              "0.0009941638016439814"
            ]
          },
          "metadata": {},
          "execution_count": 30
        }
      ]
    },
    {
      "cell_type": "markdown",
      "source": [
        "#Método 2 - Teste de Variância inflaction factor (VIF)"
      ],
      "metadata": {
        "id": "ZoDPrIsXHZzY"
      }
    },
    {
      "cell_type": "code",
      "source": [
        "#Calculando o VIF\n",
        "\n",
        "vif = 1 / (1 - model.rsquared)"
      ],
      "metadata": {
        "id": "NFoy9MMZHfIf"
      },
      "execution_count": null,
      "outputs": []
    },
    {
      "cell_type": "code",
      "source": [
        "print(vif)"
      ],
      "metadata": {
        "colab": {
          "base_uri": "https://localhost:8080/"
        },
        "id": "7O771U_gHt7-",
        "outputId": "f0fd7ed1-1e0c-4c87-e9a9-f96db2687114"
      },
      "execution_count": null,
      "outputs": [
        {
          "output_type": "stream",
          "name": "stdout",
          "text": [
            "29.875860777588468\n"
          ]
        }
      ]
    },
    {
      "cell_type": "markdown",
      "source": [
        "*Se o VIF for superior a 5 ou 10 (que é o meu caso nesse modelo), isso pode indicar multicolinearidade e você pode considerar remover uma das variáveis independentes do modelo ou usar técnicas de regularização para lidar com a multicolinearidade.*\n",
        "\n",
        "*Essa diferença, entre 5 ou 10, é derivada de divergências na literatura.*"
      ],
      "metadata": {
        "id": "L01b_G2DH-K3"
      }
    }
  ]
}